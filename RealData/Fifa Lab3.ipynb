{
 "cells": [
  {
   "cell_type": "code",
   "execution_count": 31,
   "metadata": {
    "pycharm": {
     "name": "#%%\n"
    }
   },
   "outputs": [],
   "source": [
    "import warnings\n",
    "\n",
    "# Filter specific warning\n",
    "warnings.filterwarnings(\"ignore\")\n",
    "import pandas as pd\n",
    "import numpy as np\n",
    "import copy\n",
    "from sklearn.model_selection import train_test_split\n",
    "from sklearn.ensemble import GradientBoostingRegressor\n",
    "from sklearn.metrics import mean_absolute_error, mean_squared_error"
   ]
  },
  {
   "cell_type": "code",
   "execution_count": 2,
   "metadata": {
    "pycharm": {
     "name": "#%%\n"
    }
   },
   "outputs": [],
   "source": [
    "df_org = pd.read_csv('../Dataset/players_19.csv')\n",
    "df_org = df_org.head(10000)\n",
    "\n",
    "col = ['Overall', 'Potential', 'Wage', 'Special', 'International Reputation', 'Skill Moves', 'FKAccuracy', 'Value']\n",
    "df = df_org[col]\n",
    "\n",
    "df.columns = ['Overall', 'Potential', 'Wage', 'Special', 'InternationalReputation', 'SkillMoves', 'FKAccuracy', 'Value']"
   ]
  },
  {
   "cell_type": "code",
   "execution_count": 3,
   "outputs": [],
   "source": [
    "# Changing the format of several string variabls\n",
    "val = []\n",
    "for i in df['Value']:\n",
    "    if i[-1] == 'M':\n",
    "        val.append(float(i[1:-1]) * 1000000)\n",
    "    elif i[-1] == 'K':\n",
    "        val.append(float(i[1:-1]) * 1000)\n",
    "    else:\n",
    "        val.append(0)\n",
    "df.loc[:, 'Value'] = val\n",
    "\n",
    "val = []\n",
    "for i in df['Wage']:\n",
    "    if i[-1] == 'M':\n",
    "        val.append(float(i[1:-1]) * 1000000)\n",
    "    elif i[-1] == 'K':\n",
    "        val.append(float(i[1:-1]) * 1000)\n",
    "    else:\n",
    "        val.append(0)\n",
    "df.loc[:, 'Wage'] = val\n",
    "\n",
    "df.rename({'Value': 'y'}, axis=1, inplace=True)"
   ],
   "metadata": {
    "collapsed": false,
    "pycharm": {
     "name": "#%%\n"
    }
   }
  },
  {
   "cell_type": "code",
   "execution_count": 4,
   "metadata": {
    "pycharm": {
     "name": "#%%\n"
    }
   },
   "outputs": [],
   "source": [
    "df['y'] = df['y'] / 10000\n",
    "df['Wage'] = df['Wage'] / 1000"
   ]
  },
  {
   "cell_type": "code",
   "execution_count": 5,
   "outputs": [
    {
     "data": {
      "text/plain": "   Overall  Potential   Wage  Special  InternationalReputation  SkillMoves  \\\n0     94.0         94  565.0     2202                      5.0         4.0   \n1     94.0         94  405.0     2228                      5.0         5.0   \n2     92.0         93  290.0     2143                      5.0         5.0   \n3     91.0         93  260.0     1471                      4.0         1.0   \n4     91.0         92  355.0     2281                      4.0         4.0   \n\n   FKAccuracy        y  \n0        94.0  11050.0  \n1        76.0   7700.0  \n2        87.0  11850.0  \n3        19.0   7200.0  \n4        83.0  10200.0  ",
      "text/html": "<div>\n<style scoped>\n    .dataframe tbody tr th:only-of-type {\n        vertical-align: middle;\n    }\n\n    .dataframe tbody tr th {\n        vertical-align: top;\n    }\n\n    .dataframe thead th {\n        text-align: right;\n    }\n</style>\n<table border=\"1\" class=\"dataframe\">\n  <thead>\n    <tr style=\"text-align: right;\">\n      <th></th>\n      <th>Overall</th>\n      <th>Potential</th>\n      <th>Wage</th>\n      <th>Special</th>\n      <th>InternationalReputation</th>\n      <th>SkillMoves</th>\n      <th>FKAccuracy</th>\n      <th>y</th>\n    </tr>\n  </thead>\n  <tbody>\n    <tr>\n      <th>0</th>\n      <td>94.0</td>\n      <td>94</td>\n      <td>565.0</td>\n      <td>2202</td>\n      <td>5.0</td>\n      <td>4.0</td>\n      <td>94.0</td>\n      <td>11050.0</td>\n    </tr>\n    <tr>\n      <th>1</th>\n      <td>94.0</td>\n      <td>94</td>\n      <td>405.0</td>\n      <td>2228</td>\n      <td>5.0</td>\n      <td>5.0</td>\n      <td>76.0</td>\n      <td>7700.0</td>\n    </tr>\n    <tr>\n      <th>2</th>\n      <td>92.0</td>\n      <td>93</td>\n      <td>290.0</td>\n      <td>2143</td>\n      <td>5.0</td>\n      <td>5.0</td>\n      <td>87.0</td>\n      <td>11850.0</td>\n    </tr>\n    <tr>\n      <th>3</th>\n      <td>91.0</td>\n      <td>93</td>\n      <td>260.0</td>\n      <td>1471</td>\n      <td>4.0</td>\n      <td>1.0</td>\n      <td>19.0</td>\n      <td>7200.0</td>\n    </tr>\n    <tr>\n      <th>4</th>\n      <td>91.0</td>\n      <td>92</td>\n      <td>355.0</td>\n      <td>2281</td>\n      <td>4.0</td>\n      <td>4.0</td>\n      <td>83.0</td>\n      <td>10200.0</td>\n    </tr>\n  </tbody>\n</table>\n</div>"
     },
     "execution_count": 5,
     "metadata": {},
     "output_type": "execute_result"
    }
   ],
   "source": [
    "df.head()"
   ],
   "metadata": {
    "collapsed": false,
    "pycharm": {
     "name": "#%%\n"
    }
   }
  },
  {
   "cell_type": "code",
   "execution_count": 6,
   "outputs": [
    {
     "name": "stdout",
     "output_type": "stream",
     "text": [
      "<class 'pandas.core.frame.DataFrame'>\n",
      "RangeIndex: 10000 entries, 0 to 9999\n",
      "Data columns (total 8 columns):\n",
      " #   Column                   Non-Null Count  Dtype  \n",
      "---  ------                   --------------  -----  \n",
      " 0   Overall                  9999 non-null   float64\n",
      " 1   Potential                10000 non-null  int64  \n",
      " 2   Wage                     10000 non-null  float64\n",
      " 3   Special                  10000 non-null  int64  \n",
      " 4   InternationalReputation  10000 non-null  float64\n",
      " 5   SkillMoves               10000 non-null  float64\n",
      " 6   FKAccuracy               10000 non-null  float64\n",
      " 7   y                        10000 non-null  float64\n",
      "dtypes: float64(6), int64(2)\n",
      "memory usage: 625.1 KB\n"
     ]
    }
   ],
   "source": [
    "df.info()"
   ],
   "metadata": {
    "collapsed": false,
    "pycharm": {
     "name": "#%%\n"
    }
   }
  },
  {
   "cell_type": "markdown",
   "metadata": {
    "pycharm": {
     "name": "#%% md\n"
    }
   },
   "source": [
    "## Train Test split"
   ]
  },
  {
   "cell_type": "code",
   "execution_count": 7,
   "metadata": {
    "pycharm": {
     "name": "#%%\n"
    }
   },
   "outputs": [
    {
     "name": "stdout",
     "output_type": "stream",
     "text": [
      "Overall                    1\n",
      "Potential                  0\n",
      "Wage                       0\n",
      "Special                    0\n",
      "InternationalReputation    0\n",
      "SkillMoves                 0\n",
      "FKAccuracy                 0\n",
      "y                          0\n",
      "dtype: int64\n"
     ]
    }
   ],
   "source": [
    "missing_values = df.isna().sum()\n",
    "print(missing_values)\n",
    "df = df.dropna()"
   ]
  },
  {
   "cell_type": "code",
   "execution_count": 8,
   "outputs": [
    {
     "name": "stdout",
     "output_type": "stream",
     "text": [
      "Overall                    0.792083\n",
      "Potential                  0.663401\n",
      "Wage                       0.841321\n",
      "Special                    0.337658\n",
      "InternationalReputation    0.625580\n",
      "SkillMoves                 0.264886\n",
      "FKAccuracy                 0.207422\n",
      "y                          1.000000\n",
      "Name: y, dtype: float64\n"
     ]
    }
   ],
   "source": [
    "# Assuming df is your DataFrame with player parameters and salary\n",
    "correlation_matrix = df.corr()\n",
    "print(correlation_matrix['y'])  # 'y' represents the column with salaries"
   ],
   "metadata": {
    "collapsed": false,
    "pycharm": {
     "name": "#%%\n"
    }
   }
  },
  {
   "cell_type": "code",
   "execution_count": 170,
   "outputs": [
    {
     "data": {
      "text/plain": "<Figure size 432x288 with 1 Axes>",
      "image/png": "[encoded data removed]"
     },
     "metadata": {
      "needs_background": "light"
     },
     "output_type": "display_data"
    },
    {
     "name": "stdout",
     "output_type": "stream",
     "text": [
      "\n"
     ]
    },
    {
     "data": {
      "text/plain": "<Figure size 432x288 with 1 Axes>",
      "image/png": "[encoded data removed]"
     },
     "metadata": {
      "needs_background": "light"
     },
     "output_type": "display_data"
    },
    {
     "name": "stdout",
     "output_type": "stream",
     "text": [
      "\n"
     ]
    },
    {
     "data": {
      "text/plain": "<Figure size 432x288 with 1 Axes>",
      "image/png": "[encoded data removed]"
     },
     "metadata": {
      "needs_background": "light"
     },
     "output_type": "display_data"
    }
   ],
   "source": [
    "import matplotlib.pyplot as plt\n",
    "\n",
    "# Plotting a scatter plot for 'Age' and 'Wage' columns (you can change these to relevant columns)\n",
    "plt.scatter(df['Overall'], df['y'])  # 'y' represents the column with salaries\n",
    "plt.xlabel('Overall')\n",
    "plt.ylabel('Salary')\n",
    "plt.title('Overall vs Salary')\n",
    "plt.show()\n",
    "print()\n",
    "\n",
    "plt.scatter(df['Wage'], df['y'])  # 'y' represents the column with salaries\n",
    "plt.xlabel('Wage')\n",
    "plt.ylabel('Salary')\n",
    "plt.title('Wage vs Salary')\n",
    "plt.show()\n",
    "print()\n",
    "\n",
    "plt.scatter(df['InternationalReputation'], df['y'])  # 'y' represents the column with salaries\n",
    "plt.xlabel('InternationalReputation')\n",
    "plt.ylabel('Salary')\n",
    "plt.title('InternationalReputation vs Salary')\n",
    "plt.show()"
   ],
   "metadata": {
    "collapsed": false,
    "pycharm": {
     "name": "#%%\n"
    }
   }
  },
  {
   "cell_type": "code",
   "execution_count": 13,
   "metadata": {
    "pycharm": {
     "name": "#%%\n"
    }
   },
   "outputs": [],
   "source": [
    "Y = copy.deepcopy(df['y'])\n",
    "X = df.drop('y', axis = 1)\n",
    "\n",
    "x_train, x_test, y_train, y_test = train_test_split(X, Y, test_size = 0.1, random_state=2)"
   ]
  },
  {
   "cell_type": "code",
   "execution_count": 10,
   "outputs": [
    {
     "name": "stdout",
     "output_type": "stream",
     "text": [
      "Training Features Shape: (8999, 7)\n",
      "Training Labels Shape: (8999,)\n",
      "Testing Features Shape: (1000, 7)\n",
      "Testing Labels Shape: (1000,)\n"
     ]
    }
   ],
   "source": [
    "print('Training Features Shape:', x_train.shape)\n",
    "print('Training Labels Shape:', y_train.shape)\n",
    "print('Testing Features Shape:', x_test.shape)\n",
    "print('Testing Labels Shape:', y_test.shape)"
   ],
   "metadata": {
    "collapsed": false,
    "pycharm": {
     "name": "#%%\n"
    }
   }
  },
  {
   "cell_type": "markdown",
   "metadata": {
    "pycharm": {
     "name": "#%% md\n"
    }
   },
   "source": [
    "## GradientBoostingRegressor"
   ]
  },
  {
   "cell_type": "code",
   "execution_count": 147,
   "outputs": [
    {
     "data": {
      "text/plain": "GradientBoostingRegressor(max_depth=10)"
     },
     "execution_count": 147,
     "metadata": {},
     "output_type": "execute_result"
    }
   ],
   "source": [
    "# Create the regressor\n",
    "gb_regressor = GradientBoostingRegressor(max_depth=10)\n",
    "\n",
    "# Fit the model using your training data\n",
    "gb_regressor.fit(x_train, y_train)"
   ],
   "metadata": {
    "collapsed": false,
    "pycharm": {
     "name": "#%%\n"
    }
   }
  },
  {
   "cell_type": "code",
   "execution_count": 148,
   "outputs": [],
   "source": [
    "# Predict using the testing features\n",
    "predictions = gb_regressor.predict(x_test)"
   ],
   "metadata": {
    "collapsed": false,
    "pycharm": {
     "name": "#%%\n"
    }
   }
  },
  {
   "cell_type": "code",
   "execution_count": 149,
   "outputs": [
    {
     "name": "stdout",
     "output_type": "stream",
     "text": [
      "Mean Absolute Error (MAE): 58.24 dollars.\n",
      "Root Mean Squared Error (RMSE): 176.09\n"
     ]
    }
   ],
   "source": [
    "\n",
    "\n",
    "# Calculate MAE\n",
    "mae = mean_absolute_error(y_test, predictions)\n",
    "\n",
    "# Calculate RMSE\n",
    "rmse = mean_squared_error(y_test, predictions, squared=False)  # Setting squared=False returns RMSE\n",
    "\n",
    "print(f\"Mean Absolute Error (MAE): {mae:.2f} dollars.\")\n",
    "print(f\"Root Mean Squared Error (RMSE): {rmse:.2f}\")"
   ],
   "metadata": {
    "collapsed": false,
    "pycharm": {
     "name": "#%%\n"
    }
   }
  },
  {
   "cell_type": "code",
   "execution_count": 156,
   "outputs": [
    {
     "name": "stdout",
     "output_type": "stream",
     "text": [
      "[ 65. 240. 900. 230. 210.]\n",
      "\n",
      "[ 69. 158. 873. 148. 214.]\n"
     ]
    }
   ],
   "source": [
    "print(y_test[:5].to_numpy())\n",
    "print()\n",
    "print(np.round(predictions[:5]))"
   ],
   "metadata": {
    "collapsed": false,
    "pycharm": {
     "name": "#%%\n"
    }
   }
  },
  {
   "cell_type": "markdown",
   "source": [
    "## LinearRegression"
   ],
   "metadata": {
    "collapsed": false,
    "pycharm": {
     "name": "#%% md\n"
    }
   }
  },
  {
   "cell_type": "code",
   "execution_count": 99,
   "outputs": [],
   "source": [
    "from sklearn.linear_model import LinearRegression"
   ],
   "metadata": {
    "collapsed": false,
    "pycharm": {
     "name": "#%%\n"
    }
   }
  },
  {
   "cell_type": "code",
   "execution_count": 161,
   "outputs": [
    {
     "data": {
      "text/plain": "LinearRegression()"
     },
     "execution_count": 161,
     "metadata": {},
     "output_type": "execute_result"
    }
   ],
   "source": [
    "model = LinearRegression(normalize=False)\n",
    "\n",
    "# Fitting the model\n",
    "model.fit(x_train, y_train)"
   ],
   "metadata": {
    "collapsed": false,
    "pycharm": {
     "name": "#%%\n"
    }
   }
  },
  {
   "cell_type": "code",
   "execution_count": 162,
   "outputs": [],
   "source": [
    "predictions = abs(model.predict(x_test[:1000]))"
   ],
   "metadata": {
    "collapsed": false,
    "pycharm": {
     "name": "#%%\n"
    }
   }
  },
  {
   "cell_type": "code",
   "execution_count": 163,
   "outputs": [
    {
     "name": "stdout",
     "output_type": "stream",
     "text": [
      "Mean Absolute Error (MAE): 139.49 dollars.\n",
      "Root Mean Squared Error (RMSE): 261.11\n"
     ]
    }
   ],
   "source": [
    "# Calculate MAE\n",
    "mae = mean_absolute_error(y_test, predictions)\n",
    "\n",
    "# Calculate RMSE\n",
    "rmse = mean_squared_error(y_test, predictions, squared=False)  # Setting squared=False returns RMSE\n",
    "\n",
    "# measures the average absolute percentage difference between predicted and actual values.\n",
    "mape = np.mean(np.abs((y_test - predictions) / y_test)) * 100 % 100\n",
    "\n",
    "print(f\"Mean Absolute Error (MAE): {mae:.2f} dollars.\")\n",
    "print(f\"Root Mean Squared Error (RMSE): {rmse:.2f}\")"
   ],
   "metadata": {
    "collapsed": false,
    "pycharm": {
     "name": "#%%\n"
    }
   }
  },
  {
   "cell_type": "code",
   "execution_count": 164,
   "outputs": [
    {
     "name": "stdout",
     "output_type": "stream",
     "text": [
      "[ 65. 240. 900. 230. 210.]\n",
      "\n",
      "[ 89. 424. 701. 232. 162.]\n"
     ]
    }
   ],
   "source": [
    "print(y_test[:5].to_numpy())\n",
    "print()\n",
    "print(np.round(predictions[:5]))"
   ],
   "metadata": {
    "collapsed": false,
    "pycharm": {
     "name": "#%%\n"
    }
   }
  },
  {
   "cell_type": "markdown",
   "source": [
    "## KNeighborsRegressor"
   ],
   "metadata": {
    "collapsed": false,
    "pycharm": {
     "name": "#%% md\n"
    }
   }
  },
  {
   "cell_type": "code",
   "execution_count": null,
   "outputs": [],
   "source": [],
   "metadata": {
    "collapsed": false,
    "pycharm": {
     "name": "#%%\n"
    }
   }
  },
  {
   "cell_type": "code",
   "execution_count": 21,
   "outputs": [],
   "source": [
    "x_train, x_test, y_train, y_test = train_test_split(X, Y, test_size = 0.1, random_state=2)"
   ],
   "metadata": {
    "collapsed": false,
    "pycharm": {
     "name": "#%%\n"
    }
   }
  },
  {
   "cell_type": "code",
   "execution_count": 28,
   "outputs": [],
   "source": [
    "import numpy as np\n",
    "\n",
    "class CustomKNNRegressor:\n",
    "    def __init__(self, k=5):\n",
    "        self.k = k\n",
    "\n",
    "    def fit(self, X_train, y_train):\n",
    "        self.X_train = X_train\n",
    "        self.y_train = y_train\n",
    "\n",
    "    def predict(self, X_test):\n",
    "        predictions = []\n",
    "        for test_point in X_test:\n",
    "            distances = []\n",
    "            for train_point in self.X_train:\n",
    "                # Обчислення Евклідової відстані між точками\n",
    "               # print(test_point, train_point)\n",
    "                distance = np.linalg.norm(test_point - train_point)\n",
    "                distances.append(distance)\n",
    "\n",
    "            # Сортуємо індекси згідно з відстанями та вибираємо k найближчих сусідів\n",
    "            k_nearest_indices = np.argsort(distances)[:self.k]\n",
    "\n",
    "            # Обчислення середнього значення для k найближчих сусідів\n",
    "            k_nearest_neighbors = self.y_train[k_nearest_indices]\n",
    "            prediction = np.mean(k_nearest_neighbors)\n",
    "            predictions.append(prediction)\n",
    "\n",
    "        return np.array(predictions)\n"
   ],
   "metadata": {
    "collapsed": false,
    "pycharm": {
     "name": "#%%\n"
    }
   }
  },
  {
   "cell_type": "code",
   "execution_count": 29,
   "outputs": [],
   "source": [
    "\n",
    "model = CustomKNNRegressor(k=5)\n",
    "model.fit(x_train, y_train)\n",
    "predictions = model.predict(x_test[:1000])"
   ],
   "metadata": {
    "collapsed": false,
    "pycharm": {
     "name": "#%%\n"
    }
   }
  },
  {
   "cell_type": "code",
   "execution_count": 32,
   "outputs": [
    {
     "name": "stdout",
     "output_type": "stream",
     "text": [
      "Mean Absolute Error (MAE): 139.91 dollars.\n",
      "Root Mean Squared Error (RMSE): 297.13\n"
     ]
    }
   ],
   "source": [
    "# Calculate MAE\n",
    "mae = mean_absolute_error(y_test, predictions)\n",
    "\n",
    "# Calculate RMSE\n",
    "rmse = mean_squared_error(y_test, predictions, squared=False)  # Setting squared=False returns RMSE\n",
    "\n",
    "# measures the average absolute percentage difference between predicted and actual values.\n",
    "mape = np.mean(np.abs((y_test - predictions) / y_test)) * 100 % 100\n",
    "\n",
    "print(f\"Mean Absolute Error (MAE): {mae:.2f} dollars.\")\n",
    "print(f\"Root Mean Squared Error (RMSE): {rmse:.2f}\")"
   ],
   "metadata": {
    "collapsed": false,
    "pycharm": {
     "name": "#%%\n"
    }
   }
  },
  {
   "cell_type": "code",
   "execution_count": 43,
   "outputs": [
    {
     "data": {
      "text/plain": "<Figure size 432x288 with 1 Axes>",
      "image/png": "[encoded data removed]"
     },
     "metadata": {
      "needs_background": "light"
     },
     "output_type": "display_data"
    }
   ],
   "source": [
    "import matplotlib.pyplot as plt\n",
    "\n",
    "categories = ['Low', 'Medium', 'High']\n",
    "y_test_categories = pd.cut(y_test[:50], bins=3, labels=categories)\n",
    "\n",
    "plt.figure()\n",
    "plt.bar(range(len(y_test_categories)), y_test[:50],  label='Expected Salary')\n",
    "plt.bar(range(len(predictions[:50])), predictions[:50], label='Predicted Salary')\n",
    "plt.xlabel('Sample')\n",
    "plt.ylabel('Salary')\n",
    "plt.title('Expected vs. Predicted Salary')\n",
    "plt.legend()\n",
    "plt.show()\n"
   ],
   "metadata": {
    "collapsed": false,
    "pycharm": {
     "name": "#%%\n"
    }
   }
  },
  {
   "cell_type": "code",
   "execution_count": null,
   "outputs": [],
   "source": [],
   "metadata": {
    "collapsed": false,
    "pycharm": {
     "name": "#%%\n"
    }
   }
  }
 ],
 "metadata": {
  "kernelspec": {
   "display_name": "Python 3",
   "language": "python",
   "name": "python3"
  },
  "language_info": {
   "codemirror_mode": {
    "name": "ipython",
    "version": 3
   },
   "file_extension": ".py",
   "mimetype": "text/x-python",
   "name": "python",
   "nbconvert_exporter": "python",
   "pygments_lexer": "ipython3",
   "version": "3.8.8"
  }
 },
 "nbformat": 4,
 "nbformat_minor": 1
}