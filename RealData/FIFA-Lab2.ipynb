{
 "cells": [
  {
   "cell_type": "code",
   "execution_count": 1,
   "metadata": {
    "pycharm": {
     "name": "#%%\n"
    }
   },
   "outputs": [],
   "source": [
    "import warnings\n",
    "\n",
    "# Filter specific warning\n",
    "warnings.filterwarnings(\"ignore\")"
   ]
  },
  {
   "cell_type": "code",
   "execution_count": 2,
   "metadata": {
    "pycharm": {
     "name": "#%%\n"
    }
   },
   "outputs": [],
   "source": [
    "import numpy as np\n",
    "import pandas as pd\n",
    "import random\n",
    "\n",
    "df_org = pd.read_csv('../Dataset/kl.csv')\n",
    "df_org = df_org.head(10000)\n",
    "\n",
    "col = ['Age', 'Overall', 'Potential', 'Wage', 'Special', 'Preferred Foot', 'International Reputation',\n",
    "       'Skill Moves', 'Height', 'Weight', 'Club', 'Value', 'FKAccuracy', 'Agility']\n",
    "df = df_org[col]\n",
    "\n",
    "df.columns = ['Age', 'Overall', 'Potential', 'Wage', 'Special', 'PreferredFoot', 'InternationalReputation',\n",
    "              'SkillMoves', 'Height', 'Weight', 'Club', 'Value',  'FKAccuracy', 'Agility']\n",
    "\n"
   ]
  },
  {
   "cell_type": "code",
   "execution_count": 3,
   "metadata": {
    "pycharm": {
     "name": "#%%\n"
    }
   },
   "outputs": [],
   "source": [
    "# Changing the format of several string variabls\n",
    "val = []\n",
    "for i in df['Value']:\n",
    "    if i[-1] == 'M':\n",
    "        val.append(float(i[1:-1]) * 1000000)\n",
    "    elif i[-1] == 'K':\n",
    "        val.append(float(i[1:-1]) * 1000)\n",
    "    else:\n",
    "        val.append(0)\n",
    "df.loc[:, 'Value'] = val\n",
    "\n",
    "val = []\n",
    "for i in df['Wage']:\n",
    "    if i[-1] == 'M':\n",
    "        val.append(float(i[1:-1]) * 1000000)\n",
    "    elif i[-1] == 'K':\n",
    "        val.append(float(i[1:-1]) * 1000)\n",
    "    else:\n",
    "        val.append(0)\n",
    "df.loc[:, 'Wage'] = val\n",
    "\n",
    "height = df.Height.str.split('\\'', 1)\n",
    "height0 = []\n",
    "height1 = []\n",
    "for i in height:\n",
    "    if type(i) is list:\n",
    "        height0.append(i[0])\n",
    "        height1.append(i[1])\n",
    "    else:\n",
    "        height0.append(0)\n",
    "        height1.append(0)\n",
    "\n",
    "height_cm = []\n",
    "for i in range(len(height)):\n",
    "    height_cm.append(round((float(height0[i]) * 30.48 + float(height1[i]) * 2.54) / 100, 3))\n",
    "df.loc[:, 'Height'] = height_cm\n",
    "\n",
    "df['Weight'] = pd.to_numeric(df['Weight'].str.rstrip('lbs'))\n",
    "\n",
    "df = df.iloc[np.where((df['Value'] > 0) & (df['Height'] > 0))]\n",
    "\n",
    "df.rename({'Club': 'cluster'}, axis=1, inplace=True)\n",
    "df.rename({'Value': 'y'}, axis=1, inplace=True)"
   ]
  },
  {
   "cell_type": "code",
   "execution_count": 4,
   "metadata": {
    "pycharm": {
     "name": "#%%\n"
    }
   },
   "outputs": [],
   "source": [
    "# енкодинг\n",
    "df['PreferredFoot'] = pd.Categorical(df['PreferredFoot']).codes\n",
    "df['cluster'] = pd.Categorical(df['cluster']).codes\n",
    "codes = pd.Categorical(df['cluster']).unique()"
   ]
  },
  {
   "cell_type": "code",
   "execution_count": 5,
   "metadata": {
    "pycharm": {
     "name": "#%%\n"
    }
   },
   "outputs": [
    {
     "data": {
      "text/plain": [
       "[206, 316, 421, 363, 362, ..., 154, 353, 559, 569, 121]\n",
       "Length: 630\n",
       "Categories (630, int64): [206, 316, 421, 363, ..., 353, 559, 569, 121]"
      ]
     },
     "execution_count": 5,
     "metadata": {},
     "output_type": "execute_result"
    }
   ],
   "source": [
    "codes"
   ]
  },
  {
   "cell_type": "code",
   "execution_count": 6,
   "metadata": {
    "pycharm": {
     "name": "#%%\n"
    }
   },
   "outputs": [
    {
     "data": {
      "text/plain": [
       "40000.0"
      ]
     },
     "execution_count": 6,
     "metadata": {},
     "output_type": "execute_result"
    }
   ],
   "source": [
    "# нормалізувати (наблизити до 0)\n",
    "min(df['y'])"
   ]
  },
  {
   "cell_type": "code",
   "execution_count": 7,
   "metadata": {
    "pycharm": {
     "name": "#%%\n"
    }
   },
   "outputs": [
    {
     "data": {
      "text/plain": [
       "1000.0"
      ]
     },
     "execution_count": 7,
     "metadata": {},
     "output_type": "execute_result"
    }
   ],
   "source": [
    "min(df['Wage'])"
   ]
  },
  {
   "cell_type": "code",
   "execution_count": 8,
   "metadata": {
    "pycharm": {
     "name": "#%%\n"
    }
   },
   "outputs": [],
   "source": [
    "df['y'] = df['y'] / 10000\n",
    "df['Wage'] = df['Wage'] / 1000"
   ]
  },
  {
   "cell_type": "code",
   "execution_count": 9,
   "metadata": {
    "pycharm": {
     "name": "#%%\n"
    }
   },
   "outputs": [
    {
     "data": {
      "text/html": [
       "<div>\n",
       "<style scoped>\n",
       "    .dataframe tbody tr th:only-of-type {\n",
       "        vertical-align: middle;\n",
       "    }\n",
       "\n",
       "    .dataframe tbody tr th {\n",
       "        vertical-align: top;\n",
       "    }\n",
       "\n",
       "    .dataframe thead th {\n",
       "        text-align: right;\n",
       "    }\n",
       "</style>\n",
       "<table border=\"1\" class=\"dataframe\">\n",
       "  <thead>\n",
       "    <tr style=\"text-align: right;\">\n",
       "      <th></th>\n",
       "      <th>Age</th>\n",
       "      <th>Overall</th>\n",
       "      <th>Potential</th>\n",
       "      <th>Wage</th>\n",
       "      <th>Special</th>\n",
       "      <th>PreferredFoot</th>\n",
       "      <th>InternationalReputation</th>\n",
       "      <th>SkillMoves</th>\n",
       "      <th>Height</th>\n",
       "      <th>Weight</th>\n",
       "      <th>cluster</th>\n",
       "      <th>y</th>\n",
       "      <th>FKAccuracy</th>\n",
       "      <th>Agility</th>\n",
       "    </tr>\n",
       "  </thead>\n",
       "  <tbody>\n",
       "    <tr>\n",
       "      <th>0</th>\n",
       "      <td>31.0</td>\n",
       "      <td>94.0</td>\n",
       "      <td>94</td>\n",
       "      <td>565.0</td>\n",
       "      <td>2202</td>\n",
       "      <td>0</td>\n",
       "      <td>5.0</td>\n",
       "      <td>4.0</td>\n",
       "      <td>1.702</td>\n",
       "      <td>159</td>\n",
       "      <td>206</td>\n",
       "      <td>11050.0</td>\n",
       "      <td>94.0</td>\n",
       "      <td>91.0</td>\n",
       "    </tr>\n",
       "    <tr>\n",
       "      <th>1</th>\n",
       "      <td>33.0</td>\n",
       "      <td>94.0</td>\n",
       "      <td>94</td>\n",
       "      <td>405.0</td>\n",
       "      <td>2228</td>\n",
       "      <td>1</td>\n",
       "      <td>5.0</td>\n",
       "      <td>5.0</td>\n",
       "      <td>1.880</td>\n",
       "      <td>183</td>\n",
       "      <td>316</td>\n",
       "      <td>7700.0</td>\n",
       "      <td>76.0</td>\n",
       "      <td>87.0</td>\n",
       "    </tr>\n",
       "    <tr>\n",
       "      <th>2</th>\n",
       "      <td>26.0</td>\n",
       "      <td>92.0</td>\n",
       "      <td>93</td>\n",
       "      <td>290.0</td>\n",
       "      <td>2143</td>\n",
       "      <td>1</td>\n",
       "      <td>5.0</td>\n",
       "      <td>5.0</td>\n",
       "      <td>1.753</td>\n",
       "      <td>150</td>\n",
       "      <td>421</td>\n",
       "      <td>11850.0</td>\n",
       "      <td>87.0</td>\n",
       "      <td>96.0</td>\n",
       "    </tr>\n",
       "    <tr>\n",
       "      <th>3</th>\n",
       "      <td>27.0</td>\n",
       "      <td>91.0</td>\n",
       "      <td>93</td>\n",
       "      <td>260.0</td>\n",
       "      <td>1471</td>\n",
       "      <td>1</td>\n",
       "      <td>4.0</td>\n",
       "      <td>1.0</td>\n",
       "      <td>1.930</td>\n",
       "      <td>168</td>\n",
       "      <td>363</td>\n",
       "      <td>7200.0</td>\n",
       "      <td>19.0</td>\n",
       "      <td>60.0</td>\n",
       "    </tr>\n",
       "    <tr>\n",
       "      <th>4</th>\n",
       "      <td>27.0</td>\n",
       "      <td>91.0</td>\n",
       "      <td>92</td>\n",
       "      <td>355.0</td>\n",
       "      <td>2281</td>\n",
       "      <td>1</td>\n",
       "      <td>4.0</td>\n",
       "      <td>4.0</td>\n",
       "      <td>1.803</td>\n",
       "      <td>154</td>\n",
       "      <td>362</td>\n",
       "      <td>10200.0</td>\n",
       "      <td>83.0</td>\n",
       "      <td>79.0</td>\n",
       "    </tr>\n",
       "    <tr>\n",
       "      <th>5</th>\n",
       "      <td>27.0</td>\n",
       "      <td>91.0</td>\n",
       "      <td>91</td>\n",
       "      <td>340.0</td>\n",
       "      <td>2142</td>\n",
       "      <td>1</td>\n",
       "      <td>4.0</td>\n",
       "      <td>4.0</td>\n",
       "      <td>1.727</td>\n",
       "      <td>163</td>\n",
       "      <td>132</td>\n",
       "      <td>9300.0</td>\n",
       "      <td>79.0</td>\n",
       "      <td>95.0</td>\n",
       "    </tr>\n",
       "    <tr>\n",
       "      <th>6</th>\n",
       "      <td>32.0</td>\n",
       "      <td>91.0</td>\n",
       "      <td>91</td>\n",
       "      <td>420.0</td>\n",
       "      <td>2280</td>\n",
       "      <td>1</td>\n",
       "      <td>4.0</td>\n",
       "      <td>4.0</td>\n",
       "      <td>1.727</td>\n",
       "      <td>146</td>\n",
       "      <td>455</td>\n",
       "      <td>6700.0</td>\n",
       "      <td>78.0</td>\n",
       "      <td>93.0</td>\n",
       "    </tr>\n",
       "  </tbody>\n",
       "</table>\n",
       "</div>"
      ],
      "text/plain": [
       "    Age  Overall  Potential   Wage  Special  PreferredFoot  \\\n",
       "0  31.0     94.0         94  565.0     2202              0   \n",
       "1  33.0     94.0         94  405.0     2228              1   \n",
       "2  26.0     92.0         93  290.0     2143              1   \n",
       "3  27.0     91.0         93  260.0     1471              1   \n",
       "4  27.0     91.0         92  355.0     2281              1   \n",
       "5  27.0     91.0         91  340.0     2142              1   \n",
       "6  32.0     91.0         91  420.0     2280              1   \n",
       "\n",
       "   InternationalReputation  SkillMoves  Height  Weight  cluster        y  \\\n",
       "0                      5.0         4.0   1.702     159      206  11050.0   \n",
       "1                      5.0         5.0   1.880     183      316   7700.0   \n",
       "2                      5.0         5.0   1.753     150      421  11850.0   \n",
       "3                      4.0         1.0   1.930     168      363   7200.0   \n",
       "4                      4.0         4.0   1.803     154      362  10200.0   \n",
       "5                      4.0         4.0   1.727     163      132   9300.0   \n",
       "6                      4.0         4.0   1.727     146      455   6700.0   \n",
       "\n",
       "   FKAccuracy  Agility  \n",
       "0        94.0     91.0  \n",
       "1        76.0     87.0  \n",
       "2        87.0     96.0  \n",
       "3        19.0     60.0  \n",
       "4        83.0     79.0  \n",
       "5        79.0     95.0  \n",
       "6        78.0     93.0  "
      ]
     },
     "execution_count": 9,
     "metadata": {},
     "output_type": "execute_result"
    }
   ],
   "source": [
    "df.head(7)"
   ]
  },
  {
   "cell_type": "markdown",
   "metadata": {
    "pycharm": {
     "name": "#%% md\n"
    }
   },
   "source": [
    "## Train Test split"
   ]
  },
  {
   "cell_type": "code",
   "execution_count": 10,
   "metadata": {
    "pycharm": {
     "name": "#%%\n"
    }
   },
   "outputs": [],
   "source": [
    "## Дані будуть розділені на тренувальну і тестувальну вибірки, так щоб не було однакових значень 'cluster' між цими вибірками.\n",
    "version = 'CV'\n",
    "depth = 6\n",
    "NoCov = 2"
   ]
  },
  {
   "cell_type": "code",
   "execution_count": 11,
   "metadata": {
    "pycharm": {
     "name": "#%%\n"
    }
   },
   "outputs": [],
   "source": [
    "labels = np.array(df['y'])\n",
    "features= df.drop('y', axis = 1)\n",
    "\n",
    "feature_list = list(features.columns)\n",
    "features = np.array(features)"
   ]
  },
  {
   "cell_type": "code",
   "execution_count": 12,
   "metadata": {
    "pycharm": {
     "name": "#%%\n"
    }
   },
   "outputs": [
    {
     "name": "stdout",
     "output_type": "stream",
     "text": [
      "Age                        1\n",
      "Overall                    1\n",
      "Potential                  0\n",
      "Wage                       0\n",
      "Special                    0\n",
      "PreferredFoot              0\n",
      "InternationalReputation    0\n",
      "SkillMoves                 0\n",
      "Height                     0\n",
      "Weight                     0\n",
      "cluster                    0\n",
      "y                          0\n",
      "FKAccuracy                 0\n",
      "Agility                    0\n",
      "dtype: int64\n"
     ]
    }
   ],
   "source": [
    "missing_values = df.isna().sum()\n",
    "print(missing_values)\n",
    "df = df.dropna()"
   ]
  },
  {
   "cell_type": "code",
   "execution_count": 14,
   "metadata": {
    "pycharm": {
     "name": "#%%\n"
    }
   },
   "outputs": [
    {
     "name": "stdout",
     "output_type": "stream",
     "text": [
      "Training Features Shape: (1470, 14)\n",
      "Training Labels Shape: (1470,)\n",
      "Testing Features Shape: (8367, 14)\n",
      "Testing Labels Shape: (8367,)\n"
     ]
    }
   ],
   "source": [
    "sample_clusters = random.sample(set(df.cluster.unique()), 100)\n",
    "df_tr = df.loc[df['cluster'].isin(sample_clusters)]\n",
    "train_labels = np.array(df_tr['y'])\n",
    "\n",
    "df_test = df.loc[~df['cluster'].isin(sample_clusters)]\n",
    "test_labels = np.array(df_test['y'])\n",
    "\n",
    "print('Training Features Shape:', df_tr.shape)\n",
    "print('Training Labels Shape:', df_tr['y'].shape)\n",
    "print('Testing Features Shape:', df_test.shape)\n",
    "print('Testing Labels Shape:', df_test['y'].shape)"
   ]
  },
  {
   "cell_type": "markdown",
   "metadata": {
    "pycharm": {
     "name": "#%% md\n"
    }
   },
   "source": [
    "## The analysis"
   ]
  },
  {
   "cell_type": "markdown",
   "metadata": {
    "pycharm": {
     "name": "#%% md\n"
    }
   },
   "source": [
    "# RETCO"
   ]
  },
  {
   "cell_type": "code",
   "execution_count": null,
   "metadata": {
    "pycharm": {
     "name": "#%%\n"
    }
   },
   "outputs": [],
   "source": [
    "from RealData import ClusteredRETCO as RETCOfile\n",
    "\n",
    "RETCO = RETCOfile.CreateTree(version, df_tr, depth=depth, min_leaf_sample=3, StoppingRule='Yes', random_subspace=None)"
   ]
  },
  {
   "cell_type": "code",
   "execution_count": null,
   "metadata": {
    "pycharm": {
     "name": "#%%\n"
    }
   },
   "outputs": [],
   "source": [
    "RETCO"
   ]
  },
  {
   "cell_type": "code",
   "execution_count": null,
   "metadata": {
    "pycharm": {
     "name": "#%%\n"
    }
   },
   "outputs": [],
   "source": [
    "covariates_pred_test = df_test.iloc[:, :-NoCov].values\n",
    "col_names = df_test.iloc[:, :-NoCov].columns"
   ]
  },
  {
   "cell_type": "code",
   "execution_count": null,
   "metadata": {
    "pycharm": {
     "name": "#%%\n"
    }
   },
   "outputs": [],
   "source": [
    "prediction_test_RETCO = RETCOfile.predictionFun(col_names, covariates_pred_test, RETCO)"
   ]
  },
  {
   "cell_type": "code",
   "execution_count": null,
   "metadata": {
    "pycharm": {
     "name": "#%%\n"
    }
   },
   "outputs": [],
   "source": [
    "col_names"
   ]
  },
  {
   "cell_type": "code",
   "execution_count": null,
   "metadata": {
    "pycharm": {
     "name": "#%%\n"
    }
   },
   "outputs": [],
   "source": [
    "y_test = df_test['y'].values"
   ]
  },
  {
   "cell_type": "code",
   "execution_count": null,
   "metadata": {
    "pycharm": {
     "name": "#%%\n"
    }
   },
   "outputs": [],
   "source": [
    "prediction_test_RETCO = RETCOfile.predictionFun(col_names, covariates_pred_test, RETCO)"
   ]
  },
  {
   "cell_type": "code",
   "execution_count": null,
   "metadata": {
    "pycharm": {
     "name": "#%%\n"
    }
   },
   "outputs": [],
   "source": [
    "errors2 = abs(prediction_test_RETCO - y_test)\n",
    "# Print out the mean absolute error (mae)\n",
    "print('Mean Absolute RETCO Error:', round(np.mean(errors2), 2), 'dollars.')"
   ]
  },
  {
   "cell_type": "code",
   "execution_count": null,
   "metadata": {
    "pycharm": {
     "name": "#%%\n"
    }
   },
   "outputs": [],
   "source": [
    "mape = 100 * (errors2 / y_test)\n",
    "# Calculate and display accuracy\n",
    "accuracy = 100 - np.mean(mape)\n",
    "print('Accuracy:', round(accuracy, 2), '%.')"
   ]
  },
  {
   "cell_type": "code",
   "execution_count": null,
   "metadata": {
    "pycharm": {
     "name": "#%%\n"
    }
   },
   "outputs": [],
   "source": [
    "# Convert list to DataFrame\n",
    "df1y_test = pd.DataFrame(prediction_test_RETCO, columns=['values'])\n",
    "\n",
    "# Save DataFrame to a CSV file\n",
    "df1y_test.to_csv('prediction_test_RETCO.csv', index=False)"
   ]
  },
  {
   "cell_type": "markdown",
   "metadata": {
    "pycharm": {
     "name": "#%% md\n"
    }
   },
   "source": [
    "### prediction_test_RETCO"
   ]
  },
  {
   "cell_type": "code",
   "execution_count": null,
   "metadata": {
    "pycharm": {
     "name": "#%%\n"
    }
   },
   "outputs": [],
   "source": [
    "covariates_pred_test = df_test.iloc[:, :-NoCov].values\n",
    "col_names = df_test.iloc[:, :-NoCov].columns"
   ]
  },
  {
   "cell_type": "code",
   "execution_count": null,
   "metadata": {
    "pycharm": {
     "name": "#%%\n"
    }
   },
   "outputs": [],
   "source": [
    "prediction_test_RETCO = RETCOfile.predictionFun(col_names, covariates_pred_test, RETCO)"
   ]
  },
  {
   "cell_type": "code",
   "execution_count": 104,
   "metadata": {
    "pycharm": {
     "name": "#%%\n"
    }
   },
   "outputs": [
    {
     "data": {
      "text/plain": [
       "Index(['Age', 'Overall', 'Potential', 'Wage', 'Special', 'PreferredFoot',\n",
       "       'InternationalReputation', 'WeakFoot', 'SkillMoves', 'Height',\n",
       "       'Weight'],\n",
       "      dtype='object')"
      ]
     },
     "execution_count": 104,
     "metadata": {},
     "output_type": "execute_result"
    }
   ],
   "source": [
    "col_names"
   ]
  },
  {
   "cell_type": "code",
   "execution_count": 108,
   "metadata": {
    "pycharm": {
     "name": "#%%\n"
    }
   },
   "outputs": [],
   "source": [
    "y_test = df_test['y'].values"
   ]
  },
  {
   "cell_type": "code",
   "execution_count": 110,
   "metadata": {
    "pycharm": {
     "name": "#%%\n"
    }
   },
   "outputs": [],
   "source": [
    "prediction_test_RETCO = RETCOfile.predictionFun(col_names, covariates_pred_test, RETCO)"
   ]
  },
  {
   "cell_type": "code",
   "execution_count": 92,
   "metadata": {
    "pycharm": {
     "name": "#%%\n"
    }
   },
   "outputs": [
    {
     "name": "stdout",
     "output_type": "stream",
     "text": [
      "Mean Absolute RETCO Error: 201.72 dollars.\n"
     ]
    }
   ],
   "source": [
    "errors2 = abs(y_test-prediction_test_RETCO)\n",
    "# Print out the mean absolute error (mae)\n",
    "print('Mean Absolute RETCO Error:', round(np.mean(errors2), 2), 'dollars.')"
   ]
  },
  {
   "cell_type": "code",
   "execution_count": 78,
   "metadata": {
    "pycharm": {
     "name": "#%%\n"
    }
   },
   "outputs": [
    {
     "data": {
      "text/plain": [
       "array([[287.24500488],\n",
       "       [353.06587299],\n",
       "       [328.08378103],\n",
       "       [288.80413864],\n",
       "       [420.37833349],\n",
       "       [322.67236787],\n",
       "       [366.29838792],\n",
       "       [476.23061645],\n",
       "       [378.37837629],\n",
       "       [277.67512225],\n",
       "       [128.19499155],\n",
       "       [320.96583302],\n",
       "       [316.8546917 ],\n",
       "       [266.71470926],\n",
       "       [239.49405412],\n",
       "       [140.1552158 ],\n",
       "       [310.52368016],\n",
       "       [299.60081962],\n",
       "       [276.64699342],\n",
       "       [456.63464113],\n",
       "       [161.46880449],\n",
       "       [382.6586571 ],\n",
       "       [490.86267894],\n",
       "       [317.76373002],\n",
       "       [437.37791988],\n",
       "       [206.66491036],\n",
       "       [171.00851093],\n",
       "       [247.05134849],\n",
       "       [333.64609787],\n",
       "       [168.10295219],\n",
       "       [295.3255621 ],\n",
       "       [219.90579192],\n",
       "       [178.38752186],\n",
       "       [156.99838334],\n",
       "       [272.0551569 ],\n",
       "       [397.24084871],\n",
       "       [333.51322807],\n",
       "       [157.28356706],\n",
       "       [499.90895146],\n",
       "       [244.98332041],\n",
       "       [120.57999883],\n",
       "       [302.07374595],\n",
       "       [388.49528084],\n",
       "       [339.70337529],\n",
       "       [131.70762198],\n",
       "       [495.56761034],\n",
       "       [204.77930281],\n",
       "       [488.37222509],\n",
       "       [109.00256989],\n",
       "       [310.57976871],\n",
       "       [325.27826356],\n",
       "       [369.71521196],\n",
       "       [203.10794748],\n",
       "       [236.80146239],\n",
       "       [436.8775107 ],\n",
       "       [276.05823221],\n",
       "       [315.94495906],\n",
       "       [406.97495886],\n",
       "       [474.64370985],\n",
       "       [485.5240368 ],\n",
       "       [118.32534312],\n",
       "       [452.0915644 ],\n",
       "       [153.22298469],\n",
       "       [364.5170437 ],\n",
       "       [103.2498944 ],\n",
       "       [303.99311781],\n",
       "       [310.18620375],\n",
       "       [231.19299805],\n",
       "       [341.84175724],\n",
       "       [217.70644995],\n",
       "       [182.73561693],\n",
       "       [425.67833052],\n",
       "       [346.2915452 ],\n",
       "       [419.15600151],\n",
       "       [311.63281871],\n",
       "       [387.62807142],\n",
       "       [176.6289561 ],\n",
       "       [251.42476345],\n",
       "       [142.30555961],\n",
       "       [198.67186633],\n",
       "       [190.6058595 ],\n",
       "       [270.0202065 ],\n",
       "       [305.18623146],\n",
       "       [179.88656165],\n",
       "       [193.84111659],\n",
       "       [121.62127303],\n",
       "       [197.82922536],\n",
       "       [436.78741217],\n",
       "       [452.46539275],\n",
       "       [211.16946677],\n",
       "       [314.55535754],\n",
       "       [322.33723401],\n",
       "       [470.19137837],\n",
       "       [253.17714708],\n",
       "       [474.91222336],\n",
       "       [419.41482934],\n",
       "       [338.75732546],\n",
       "       [105.63641192],\n",
       "       [138.58907325],\n",
       "       [174.97650994],\n",
       "       [326.40014619],\n",
       "       [490.64512818],\n",
       "       [100.58977276],\n",
       "       [144.59672472],\n",
       "       [248.7365718 ],\n",
       "       [440.34695892],\n",
       "       [221.09686302],\n",
       "       [255.49776938],\n",
       "       [380.80370189],\n",
       "       [230.1389337 ],\n",
       "       [453.27104199],\n",
       "       [413.28458064],\n",
       "       [411.91281975],\n",
       "       [240.79818196],\n",
       "       [397.34504756],\n",
       "       [260.32095002],\n",
       "       [113.00669095],\n",
       "       [224.76612374],\n",
       "       [289.3247095 ],\n",
       "       [348.39864046],\n",
       "       [219.27602167],\n",
       "       [397.30134738],\n",
       "       [499.18685867],\n",
       "       [268.0090777 ],\n",
       "       [197.10105679],\n",
       "       [382.34719244],\n",
       "       [398.0680933 ],\n",
       "       [208.39287081],\n",
       "       [138.47197068],\n",
       "       [206.67638545],\n",
       "       [242.79108739],\n",
       "       [145.69481975],\n",
       "       [118.76300259],\n",
       "       [244.39055484],\n",
       "       [197.44936587],\n",
       "       [461.85248727],\n",
       "       [494.54101708],\n",
       "       [179.30849528],\n",
       "       [472.66317855],\n",
       "       [399.23324307],\n",
       "       [165.818103  ],\n",
       "       [350.07328753],\n",
       "       [260.06494588],\n",
       "       [234.36406709],\n",
       "       [371.18641294],\n",
       "       [199.0544104 ],\n",
       "       [199.4624525 ],\n",
       "       [239.26278999],\n",
       "       [283.3516734 ],\n",
       "       [411.2017425 ],\n",
       "       [347.95383478],\n",
       "       [403.78140116],\n",
       "       [198.99330993],\n",
       "       [366.23626838],\n",
       "       [186.6562172 ],\n",
       "       [362.24661484],\n",
       "       [270.13561641],\n",
       "       [271.20652779],\n",
       "       [144.57027928],\n",
       "       [314.7918557 ],\n",
       "       [108.37659036],\n",
       "       [468.49190491],\n",
       "       [241.58490588],\n",
       "       [253.17053266],\n",
       "       [171.5952133 ],\n",
       "       [450.10030655],\n",
       "       [447.6783357 ],\n",
       "       [223.01431187],\n",
       "       [469.52690047],\n",
       "       [196.37961929],\n",
       "       [307.28608973],\n",
       "       [128.33540314],\n",
       "       [102.3568515 ],\n",
       "       [144.81108571],\n",
       "       [304.00121976],\n",
       "       [350.51669849],\n",
       "       [407.10535165],\n",
       "       [254.39655749],\n",
       "       [395.51383057],\n",
       "       [222.50617194],\n",
       "       [209.45901996],\n",
       "       [225.95361797],\n",
       "       [246.09295813],\n",
       "       [300.65931366],\n",
       "       [393.09240378],\n",
       "       [403.13324455],\n",
       "       [292.39785368],\n",
       "       [327.97131842],\n",
       "       [331.77822723],\n",
       "       [113.438305  ],\n",
       "       [404.91333647],\n",
       "       [342.28639385],\n",
       "       [297.97960708],\n",
       "       [232.28321369],\n",
       "       [492.82588061],\n",
       "       [190.3160347 ],\n",
       "       [225.4742835 ],\n",
       "       [362.14282336],\n",
       "       [393.81070788],\n",
       "       [120.04812197],\n",
       "       [312.1752313 ],\n",
       "       [444.05633489],\n",
       "       [356.48830378],\n",
       "       [103.77081878],\n",
       "       [175.83026747],\n",
       "       [183.22048928],\n",
       "       [321.19327446],\n",
       "       [432.76815024],\n",
       "       [451.58132023],\n",
       "       [202.84527027],\n",
       "       [186.129829  ],\n",
       "       [317.29251469],\n",
       "       [147.65501431],\n",
       "       [288.15705607],\n",
       "       [474.73601875],\n",
       "       [294.20482963],\n",
       "       [356.39331125],\n",
       "       [365.2137515 ],\n",
       "       [113.52011592],\n",
       "       [473.97757869],\n",
       "       [470.91026427],\n",
       "       [209.0875535 ],\n",
       "       [190.23225444],\n",
       "       [116.57635552],\n",
       "       [490.13093208],\n",
       "       [158.29653018],\n",
       "       [368.24794081],\n",
       "       [217.72959804],\n",
       "       [386.31748442],\n",
       "       [455.02433789],\n",
       "       [357.51992975],\n",
       "       [230.63118525],\n",
       "       [110.10980443],\n",
       "       [432.91505913],\n",
       "       [421.41981732],\n",
       "       [130.06916663],\n",
       "       [457.31878433],\n",
       "       [150.1175415 ],\n",
       "       [234.21875982],\n",
       "       [498.51178856],\n",
       "       [285.74072615],\n",
       "       [214.74013407],\n",
       "       [391.2156278 ],\n",
       "       [195.74748331],\n",
       "       [422.88537057],\n",
       "       [101.65509869],\n",
       "       [162.83488152],\n",
       "       [493.13585208],\n",
       "       [192.71527963],\n",
       "       [478.98612863],\n",
       "       [209.90919146],\n",
       "       [324.94074869],\n",
       "       [276.22291171],\n",
       "       [409.91212184],\n",
       "       [462.00682255],\n",
       "       [138.38035604],\n",
       "       [130.36836672],\n",
       "       [347.12149619],\n",
       "       [419.45640098],\n",
       "       [270.89588088],\n",
       "       [121.68473098],\n",
       "       [223.0639818 ],\n",
       "       [306.19494707],\n",
       "       [408.90828695],\n",
       "       [244.53533399],\n",
       "       [134.07448581],\n",
       "       [150.32518142],\n",
       "       [344.18719124],\n",
       "       [299.28173452],\n",
       "       [145.04628558],\n",
       "       [360.84184104],\n",
       "       [409.53533194],\n",
       "       [250.39526724],\n",
       "       [202.39085959],\n",
       "       [433.49686452],\n",
       "       [252.64675323],\n",
       "       [424.17427243],\n",
       "       [239.69112043],\n",
       "       [347.01290835],\n",
       "       [297.65641884],\n",
       "       [262.83695201],\n",
       "       [176.46578406],\n",
       "       [273.61932761],\n",
       "       [380.34202222],\n",
       "       [350.56397274],\n",
       "       [254.72253575],\n",
       "       [174.79012101],\n",
       "       [219.85978288],\n",
       "       [407.3294602 ],\n",
       "       [488.24373261],\n",
       "       [196.1253696 ],\n",
       "       [465.79969444],\n",
       "       [477.89556896],\n",
       "       [126.54413868],\n",
       "       [457.31974032],\n",
       "       [352.53100303],\n",
       "       [454.24028267],\n",
       "       [347.72878735],\n",
       "       [477.7229273 ],\n",
       "       [436.98141036],\n",
       "       [392.37646211],\n",
       "       [468.2261742 ],\n",
       "       [254.29499652],\n",
       "       [138.84049447],\n",
       "       [119.54368616],\n",
       "       [121.14030809],\n",
       "       [416.4367979 ],\n",
       "       [354.95545305],\n",
       "       [265.71957747],\n",
       "       [430.40787861],\n",
       "       [147.4693943 ],\n",
       "       [102.62253747],\n",
       "       [363.95398334],\n",
       "       [303.6902153 ],\n",
       "       [104.10486552],\n",
       "       [393.45972286],\n",
       "       [476.23025337],\n",
       "       [110.29781915],\n",
       "       [431.97791151],\n",
       "       [420.11593385],\n",
       "       [216.83673137],\n",
       "       [190.29313078],\n",
       "       [454.20541415],\n",
       "       [203.95052132],\n",
       "       [474.87318856],\n",
       "       [336.85691191],\n",
       "       [198.66721931],\n",
       "       [386.73087725],\n",
       "       [239.04144065],\n",
       "       [109.30565372],\n",
       "       [373.00490013],\n",
       "       [165.85397692],\n",
       "       [439.47303356],\n",
       "       [407.44917747],\n",
       "       [436.89784259],\n",
       "       [445.46626701],\n",
       "       [311.15253438],\n",
       "       [289.88081873],\n",
       "       [100.53178014],\n",
       "       [284.08488939],\n",
       "       [338.44681672],\n",
       "       [380.95158465],\n",
       "       [108.06001982],\n",
       "       [212.82110725],\n",
       "       [390.6810995 ],\n",
       "       [124.71927644],\n",
       "       [266.46226033],\n",
       "       [438.41729597],\n",
       "       [165.24214768],\n",
       "       [126.60713228],\n",
       "       [292.95989838],\n",
       "       [317.9350306 ],\n",
       "       [464.01499703],\n",
       "       [325.55108066],\n",
       "       [166.55863182],\n",
       "       [434.27761675],\n",
       "       [485.75217663],\n",
       "       [230.75636184],\n",
       "       [410.88205446],\n",
       "       [494.65854195],\n",
       "       [335.09052178],\n",
       "       [365.13460543],\n",
       "       [221.14244395],\n",
       "       [313.26202279],\n",
       "       [280.4410935 ],\n",
       "       [220.79592187],\n",
       "       [279.52707499],\n",
       "       [416.39822228],\n",
       "       [476.67553932],\n",
       "       [410.21848786],\n",
       "       [324.2285842 ],\n",
       "       [286.85309556],\n",
       "       [143.27939847],\n",
       "       [196.1887522 ],\n",
       "       [286.4357845 ],\n",
       "       [471.88560588],\n",
       "       [230.83616861],\n",
       "       [459.85397008],\n",
       "       [227.55257743],\n",
       "       [464.9823732 ],\n",
       "       [260.28505929],\n",
       "       [327.159005  ],\n",
       "       [448.58833185],\n",
       "       [201.58885692],\n",
       "       [107.9375483 ],\n",
       "       [486.1731884 ],\n",
       "       [410.56178072],\n",
       "       [293.73300317],\n",
       "       [455.42467381],\n",
       "       [202.87833795],\n",
       "       [140.36478503],\n",
       "       [301.01704424],\n",
       "       [268.844209  ],\n",
       "       [475.58924385],\n",
       "       [256.82871755],\n",
       "       [419.96063509],\n",
       "       [178.04857614],\n",
       "       [400.51937469],\n",
       "       [375.83098429],\n",
       "       [119.04632295],\n",
       "       [246.14460087],\n",
       "       [370.70379973],\n",
       "       [208.81658284],\n",
       "       [273.65527894],\n",
       "       [439.01455823],\n",
       "       [100.81729116],\n",
       "       [479.19480044],\n",
       "       [304.42377087],\n",
       "       [258.16890693],\n",
       "       [161.62183481],\n",
       "       [492.15176118],\n",
       "       [454.17793411],\n",
       "       [356.5032643 ],\n",
       "       [353.52319775],\n",
       "       [308.75950148],\n",
       "       [141.32992753],\n",
       "       [491.80901348],\n",
       "       [100.98554216],\n",
       "       [289.44734359],\n",
       "       [296.80882995],\n",
       "       [220.54906722],\n",
       "       [382.98910168],\n",
       "       [108.96561679],\n",
       "       [392.83278475],\n",
       "       [125.81499691],\n",
       "       [325.94840009],\n",
       "       [288.84105936],\n",
       "       [137.91668539],\n",
       "       [465.77704597],\n",
       "       [448.2829433 ],\n",
       "       [224.54258551],\n",
       "       [213.42862351],\n",
       "       [481.05505079],\n",
       "       [248.9819796 ],\n",
       "       [213.52138446],\n",
       "       [482.21417971],\n",
       "       [398.02773046],\n",
       "       [162.21081847],\n",
       "       [106.81561039],\n",
       "       [315.63539105],\n",
       "       [215.23591447],\n",
       "       [228.05921416],\n",
       "       [157.5336021 ],\n",
       "       [243.64012156],\n",
       "       [188.98882954],\n",
       "       [217.07739374],\n",
       "       [126.75760751],\n",
       "       [363.04088327],\n",
       "       [429.51145381],\n",
       "       [171.57068974],\n",
       "       [133.94741272],\n",
       "       [279.53367194],\n",
       "       [319.5464241 ],\n",
       "       [291.51476242],\n",
       "       [325.50259006],\n",
       "       [441.04298625],\n",
       "       [172.714955  ],\n",
       "       [174.63667481],\n",
       "       [485.87591379],\n",
       "       [454.99621209],\n",
       "       [178.45440137],\n",
       "       [103.47687228],\n",
       "       [352.28891249],\n",
       "       [113.75737784],\n",
       "       [245.40031378],\n",
       "       [231.0509081 ],\n",
       "       [189.19608574],\n",
       "       [133.46805069],\n",
       "       [186.06063928],\n",
       "       [283.86409462],\n",
       "       [230.29468743],\n",
       "       [132.37935326],\n",
       "       [185.30581318],\n",
       "       [464.06024641],\n",
       "       [227.52552353],\n",
       "       [224.41107798],\n",
       "       [358.1535825 ],\n",
       "       [232.87510554],\n",
       "       [145.6385384 ],\n",
       "       [359.68766855],\n",
       "       [411.81475394],\n",
       "       [219.6021115 ],\n",
       "       [480.17640305],\n",
       "       [292.12931539],\n",
       "       [113.65040593],\n",
       "       [143.79434637],\n",
       "       [129.4122741 ],\n",
       "       [153.90210616],\n",
       "       [278.76255167],\n",
       "       [445.73210845],\n",
       "       [313.66788025],\n",
       "       [198.08406958],\n",
       "       [277.1960371 ],\n",
       "       [326.75795477],\n",
       "       [398.2407055 ],\n",
       "       [153.74056902],\n",
       "       [148.69086912],\n",
       "       [425.46735663],\n",
       "       [428.47437038],\n",
       "       [332.91319117],\n",
       "       [181.05077412],\n",
       "       [153.03063728],\n",
       "       [213.12177305],\n",
       "       [204.3547447 ],\n",
       "       [143.28838849],\n",
       "       [136.100072  ],\n",
       "       [439.20885939],\n",
       "       [240.67420797],\n",
       "       [145.22271673],\n",
       "       [177.76021931],\n",
       "       [198.11514806],\n",
       "       [291.39961523],\n",
       "       [451.96210194],\n",
       "       [313.50823268],\n",
       "       [351.80061741],\n",
       "       [258.79747158],\n",
       "       [125.25386863],\n",
       "       [206.51450269],\n",
       "       [216.5620674 ],\n",
       "       [325.11770226],\n",
       "       [203.55463059],\n",
       "       [262.03300243],\n",
       "       [271.15437813],\n",
       "       [457.89709905],\n",
       "       [455.16247638],\n",
       "       [381.56352854],\n",
       "       [467.96308216],\n",
       "       [466.50904259],\n",
       "       [472.28313285],\n",
       "       [196.38085835],\n",
       "       [279.1604329 ],\n",
       "       [131.18847196],\n",
       "       [235.27454526],\n",
       "       [355.27039972],\n",
       "       [189.60620806],\n",
       "       [140.81775967],\n",
       "       [419.40706211],\n",
       "       [221.41135679],\n",
       "       [299.38409936],\n",
       "       [233.92978892],\n",
       "       [384.72015025],\n",
       "       [292.39822352],\n",
       "       [268.48359615],\n",
       "       [355.16054172],\n",
       "       [448.36322107],\n",
       "       [414.48436638],\n",
       "       [228.522592  ],\n",
       "       [452.99583133],\n",
       "       [168.64323634],\n",
       "       [195.85008942],\n",
       "       [294.87116002],\n",
       "       [490.38916346],\n",
       "       [249.38761208],\n",
       "       [130.87161965],\n",
       "       [180.6058018 ],\n",
       "       [148.26215432],\n",
       "       [154.84860431],\n",
       "       [219.13109861],\n",
       "       [191.70110262],\n",
       "       [464.14074093],\n",
       "       [396.63650687],\n",
       "       [429.9001101 ],\n",
       "       [201.65319517],\n",
       "       [389.03609143],\n",
       "       [287.91161279],\n",
       "       [325.20764715],\n",
       "       [141.5626738 ],\n",
       "       [451.5911501 ],\n",
       "       [407.32590132],\n",
       "       [315.42945854],\n",
       "       [163.14036474],\n",
       "       [268.005796  ],\n",
       "       [184.39256994],\n",
       "       [483.75214423],\n",
       "       [428.32638302],\n",
       "       [251.62590379],\n",
       "       [446.14829092],\n",
       "       [272.28541826],\n",
       "       [478.12111211],\n",
       "       [333.66091351],\n",
       "       [425.92338828],\n",
       "       [468.46648709],\n",
       "       [351.94994478],\n",
       "       [424.01491909],\n",
       "       [221.63257315],\n",
       "       [142.57012633],\n",
       "       [335.23021711],\n",
       "       [145.5074979 ],\n",
       "       [493.64440348],\n",
       "       [309.76173915],\n",
       "       [440.9221947 ],\n",
       "       [420.1047004 ],\n",
       "       [197.80875656],\n",
       "       [231.76307728],\n",
       "       [235.16526014],\n",
       "       [294.17209643],\n",
       "       [384.24225423],\n",
       "       [312.68685337],\n",
       "       [389.91518394],\n",
       "       [118.77114862],\n",
       "       [105.49453008],\n",
       "       [133.11073798],\n",
       "       [481.7499799 ],\n",
       "       [367.05153168],\n",
       "       [117.36155069],\n",
       "       [266.92579391],\n",
       "       [300.49911226],\n",
       "       [454.2655905 ],\n",
       "       [284.99997639],\n",
       "       [337.91124187],\n",
       "       [465.68631996],\n",
       "       [219.48509753],\n",
       "       [338.00745279],\n",
       "       [270.27766334],\n",
       "       [460.43804206],\n",
       "       [281.96438285],\n",
       "       [336.63680411],\n",
       "       [230.03875227],\n",
       "       [262.65761082],\n",
       "       [346.55423009],\n",
       "       [391.51145095],\n",
       "       [127.02038888],\n",
       "       [449.86013715],\n",
       "       [189.22572789],\n",
       "       [213.27782844],\n",
       "       [309.04317087],\n",
       "       [307.95749452],\n",
       "       [301.0929262 ],\n",
       "       [437.01612908],\n",
       "       [479.25822794],\n",
       "       [345.28171676],\n",
       "       [189.09715298],\n",
       "       [304.03012011],\n",
       "       [109.40853408],\n",
       "       [274.02782113],\n",
       "       [340.13520978],\n",
       "       [334.01248169],\n",
       "       [145.64340953],\n",
       "       [325.39851418],\n",
       "       [290.79014656],\n",
       "       [312.95986262],\n",
       "       [425.05370624],\n",
       "       [408.7556616 ],\n",
       "       [115.33817422],\n",
       "       [457.15622913],\n",
       "       [478.67751444],\n",
       "       [366.74100618],\n",
       "       [133.33120532],\n",
       "       [401.32011263],\n",
       "       [354.14146453],\n",
       "       [434.35253551],\n",
       "       [390.36620701],\n",
       "       [446.44677194],\n",
       "       [132.37542411],\n",
       "       [454.81253224],\n",
       "       [139.28378741],\n",
       "       [271.08091423],\n",
       "       [202.25364363],\n",
       "       [208.71775008],\n",
       "       [233.23286459],\n",
       "       [356.4350507 ],\n",
       "       [203.0234845 ],\n",
       "       [441.48963187],\n",
       "       [499.56485677],\n",
       "       [487.0140001 ],\n",
       "       [416.97120539],\n",
       "       [457.73088516],\n",
       "       [343.22122496],\n",
       "       [432.49151101],\n",
       "       [388.75559196],\n",
       "       [160.39734459],\n",
       "       [322.22565724],\n",
       "       [186.45409977],\n",
       "       [476.51045365],\n",
       "       [139.71519967],\n",
       "       [123.34142754],\n",
       "       [115.84944926],\n",
       "       [488.15353554],\n",
       "       [468.41241756],\n",
       "       [303.03779537],\n",
       "       [130.53239367],\n",
       "       [301.06612662],\n",
       "       [386.38864733],\n",
       "       [409.08932042],\n",
       "       [497.45177169],\n",
       "       [287.15893432],\n",
       "       [436.96042323],\n",
       "       [159.54084689],\n",
       "       [126.85823429],\n",
       "       [444.38590502],\n",
       "       [466.80652977],\n",
       "       [166.44524965],\n",
       "       [460.86297291],\n",
       "       [277.2881968 ],\n",
       "       [304.57650428],\n",
       "       [132.32991826],\n",
       "       [195.69078189],\n",
       "       [335.23361675],\n",
       "       [223.81376623],\n",
       "       [447.8216429 ],\n",
       "       [450.94697737],\n",
       "       [107.17797657],\n",
       "       [161.13007222],\n",
       "       [267.50910652],\n",
       "       [398.28773224],\n",
       "       [131.70537186],\n",
       "       [344.10619788],\n",
       "       [427.83369313],\n",
       "       [206.1603576 ],\n",
       "       [461.5297852 ],\n",
       "       [292.93187401],\n",
       "       [169.61847831],\n",
       "       [201.27003597],\n",
       "       [364.34456774],\n",
       "       [232.75266394],\n",
       "       [212.04343389],\n",
       "       [271.81986127],\n",
       "       [256.35853284],\n",
       "       [112.5242389 ],\n",
       "       [383.22831429],\n",
       "       [218.55136603],\n",
       "       [400.60445169],\n",
       "       [210.70755681],\n",
       "       [453.62680447],\n",
       "       [310.86948833],\n",
       "       [337.74307456],\n",
       "       [496.75456322],\n",
       "       [371.71041691],\n",
       "       [264.15882475],\n",
       "       [205.79206219],\n",
       "       [356.010201  ],\n",
       "       [376.66490374],\n",
       "       [192.41524745],\n",
       "       [273.09647745],\n",
       "       [326.66667373],\n",
       "       [175.25582082],\n",
       "       [476.42275981],\n",
       "       [377.38570252],\n",
       "       [105.42821634],\n",
       "       [363.40755407],\n",
       "       [350.15008859],\n",
       "       [262.50070672],\n",
       "       [277.42938538],\n",
       "       [477.3738422 ],\n",
       "       [281.57921184],\n",
       "       [379.22983603],\n",
       "       [435.03040776],\n",
       "       [368.80351904],\n",
       "       [442.73316111],\n",
       "       [307.30012951],\n",
       "       [495.02750918],\n",
       "       [444.70593876],\n",
       "       [374.30876469],\n",
       "       [336.17488523],\n",
       "       [234.58279599],\n",
       "       [119.21950078],\n",
       "       [432.0207038 ],\n",
       "       [238.74505881],\n",
       "       [350.98692313],\n",
       "       [256.47044929],\n",
       "       [347.97647443],\n",
       "       [390.24040986],\n",
       "       [302.12838565],\n",
       "       [320.05473727],\n",
       "       [245.76278303],\n",
       "       [123.31703785],\n",
       "       [443.20674135],\n",
       "       [322.3958404 ],\n",
       "       [231.89435933],\n",
       "       [306.56281714],\n",
       "       [469.45479534],\n",
       "       [378.05185937],\n",
       "       [324.62231552],\n",
       "       [469.13083523],\n",
       "       [175.65648432],\n",
       "       [129.33548273],\n",
       "       [287.02765277],\n",
       "       [254.65465969],\n",
       "       [386.07236416],\n",
       "       [306.77040688],\n",
       "       [215.8880085 ],\n",
       "       [207.99664709],\n",
       "       [209.95399508],\n",
       "       [207.98883909],\n",
       "       [255.0724029 ],\n",
       "       [211.36185296],\n",
       "       [157.70498426],\n",
       "       [123.33081675],\n",
       "       [359.48665784],\n",
       "       [372.1728479 ],\n",
       "       [423.02114794],\n",
       "       [191.1786069 ],\n",
       "       [322.31558488],\n",
       "       [304.39084645],\n",
       "       [452.59836789],\n",
       "       [480.46773489],\n",
       "       [271.98622681],\n",
       "       [384.14698262],\n",
       "       [199.52819955],\n",
       "       [111.94269828],\n",
       "       [420.61908024],\n",
       "       [354.45101788],\n",
       "       [481.12095332],\n",
       "       [406.6026072 ],\n",
       "       [317.03190697],\n",
       "       [399.07479883],\n",
       "       [250.63452742],\n",
       "       [148.97420311],\n",
       "       [481.68962728],\n",
       "       [102.03562168],\n",
       "       [154.1663983 ],\n",
       "       [365.396194  ],\n",
       "       [472.65301849],\n",
       "       [366.15611433],\n",
       "       [220.25074922],\n",
       "       [419.86434847],\n",
       "       [370.93690021],\n",
       "       [314.33156484],\n",
       "       [317.40106099],\n",
       "       [200.0856294 ],\n",
       "       [181.84127692],\n",
       "       [394.79026425],\n",
       "       [117.25662592],\n",
       "       [306.67684771],\n",
       "       [256.66647525],\n",
       "       [424.00931126],\n",
       "       [399.44400045],\n",
       "       [340.4606041 ],\n",
       "       [123.74805112],\n",
       "       [323.4389155 ],\n",
       "       [437.96246519],\n",
       "       [254.61921553],\n",
       "       [173.20606349],\n",
       "       [481.70585436],\n",
       "       [240.27795253],\n",
       "       [312.64283014],\n",
       "       [470.09198954],\n",
       "       [398.92824299],\n",
       "       [485.28278554],\n",
       "       [321.92819798],\n",
       "       [337.05955849],\n",
       "       [405.55205319],\n",
       "       [278.00145688],\n",
       "       [343.52372932],\n",
       "       [307.97745375],\n",
       "       [325.29923434],\n",
       "       [244.59051142],\n",
       "       [409.08328623],\n",
       "       [444.77019406],\n",
       "       [155.47950679],\n",
       "       [380.30532516],\n",
       "       [106.20102194],\n",
       "       [331.20357104],\n",
       "       [477.03105447],\n",
       "       [471.91735842],\n",
       "       [446.52996226],\n",
       "       [160.91590883],\n",
       "       [114.81548723],\n",
       "       [305.01995373],\n",
       "       [298.98008126],\n",
       "       [315.32948302],\n",
       "       [158.31275383],\n",
       "       [104.70258757],\n",
       "       [312.97854918],\n",
       "       [495.41697974],\n",
       "       [104.48047815],\n",
       "       [493.02009041],\n",
       "       [360.65306856],\n",
       "       [385.95299613],\n",
       "       [293.46811378],\n",
       "       [450.34312594],\n",
       "       [297.43397893],\n",
       "       [436.13965515],\n",
       "       [291.39113845],\n",
       "       [161.69367588],\n",
       "       [280.55560513],\n",
       "       [286.57829949],\n",
       "       [321.5928612 ],\n",
       "       [352.73761975],\n",
       "       [173.37720593],\n",
       "       [139.33706347],\n",
       "       [269.20872723],\n",
       "       [249.72986006],\n",
       "       [483.09002006],\n",
       "       [101.91244409],\n",
       "       [383.69805605],\n",
       "       [101.97552931],\n",
       "       [420.13215477],\n",
       "       [143.32863184],\n",
       "       [293.34176756],\n",
       "       [299.99835294],\n",
       "       [239.5715161 ],\n",
       "       [395.07668797],\n",
       "       [320.30283862],\n",
       "       [155.25647972],\n",
       "       [109.50469467],\n",
       "       [234.36374308],\n",
       "       [386.19951424],\n",
       "       [496.54146998],\n",
       "       [237.56766084],\n",
       "       [350.68365192],\n",
       "       [181.57530495],\n",
       "       [221.55965679],\n",
       "       [392.90910264],\n",
       "       [243.48858922],\n",
       "       [357.30199498],\n",
       "       [297.40972219],\n",
       "       [355.76552049],\n",
       "       [496.33850038],\n",
       "       [193.38490884],\n",
       "       [496.74121015],\n",
       "       [356.7339041 ],\n",
       "       [319.02652257],\n",
       "       [496.48953085],\n",
       "       [170.86966213],\n",
       "       [447.97096155],\n",
       "       [172.67889797],\n",
       "       [264.25113442],\n",
       "       [106.11284516],\n",
       "       [331.52122258],\n",
       "       [472.3019242 ],\n",
       "       [173.25990245],\n",
       "       [493.40855864],\n",
       "       [227.73013793],\n",
       "       [349.07314213],\n",
       "       [121.3609374 ],\n",
       "       [130.5130453 ],\n",
       "       [250.30409772],\n",
       "       [349.24235291],\n",
       "       [338.36035539],\n",
       "       [136.66089453],\n",
       "       [346.98761019],\n",
       "       [226.0195658 ],\n",
       "       [109.39620046],\n",
       "       [447.86976182],\n",
       "       [426.23563608],\n",
       "       [162.35048324],\n",
       "       [343.27521582],\n",
       "       [204.13865468],\n",
       "       [238.99616954],\n",
       "       [157.95038588],\n",
       "       [479.02750965],\n",
       "       [342.61860542],\n",
       "       [490.15280005],\n",
       "       [489.3710014 ],\n",
       "       [179.3358124 ],\n",
       "       [227.9866331 ],\n",
       "       [357.39953658],\n",
       "       [371.85150371],\n",
       "       [125.8756408 ],\n",
       "       [296.99245998],\n",
       "       [115.43010916],\n",
       "       [269.77406164],\n",
       "       [337.14365003],\n",
       "       [453.71998493],\n",
       "       [211.81716709],\n",
       "       [276.1622409 ],\n",
       "       [309.30323017],\n",
       "       [351.12924344],\n",
       "       [178.88975812],\n",
       "       [115.38623268],\n",
       "       [202.45136743],\n",
       "       [302.06478612],\n",
       "       [401.01068823],\n",
       "       [476.66691683],\n",
       "       [402.29716429],\n",
       "       [378.93068776],\n",
       "       [483.41413748],\n",
       "       [184.14506025],\n",
       "       [160.11271217],\n",
       "       [273.96150198],\n",
       "       [445.86198064],\n",
       "       [364.88041079],\n",
       "       [313.92990468],\n",
       "       [376.92924142],\n",
       "       [495.32757151],\n",
       "       [415.19646907],\n",
       "       [330.82973246],\n",
       "       [286.344225  ],\n",
       "       [372.4182379 ],\n",
       "       [273.36892932],\n",
       "       [175.02131631],\n",
       "       [425.62180283],\n",
       "       [278.84029116],\n",
       "       [490.22905641],\n",
       "       [139.97618967],\n",
       "       [440.76298099],\n",
       "       [441.88028156],\n",
       "       [365.24445185],\n",
       "       [465.15059593],\n",
       "       [338.38038849],\n",
       "       [239.61727246],\n",
       "       [465.29519338],\n",
       "       [102.89851265],\n",
       "       [175.30610641],\n",
       "       [351.04731437],\n",
       "       [319.063828  ],\n",
       "       [325.8827134 ],\n",
       "       [418.11298838],\n",
       "       [229.27683173]])"
      ]
     },
     "execution_count": 78,
     "metadata": {},
     "output_type": "execute_result"
    }
   ],
   "source": [
    "errors2"
   ]
  },
  {
   "cell_type": "code",
   "execution_count": 93,
   "metadata": {
    "pycharm": {
     "name": "#%%\n"
    }
   },
   "outputs": [
    {
     "name": "stdout",
     "output_type": "stream",
     "text": [
      "Accuracy: 82.99 %.\n"
     ]
    }
   ],
   "source": [
    "mape = 100 * (errors2 / y_test)\n",
    "# Calculate and display accuracy\n",
    "accuracy = 100 - np.mean(mape)\n",
    "print('Accuracy:', round(accuracy, 2), '%.')"
   ]
  },
  {
   "cell_type": "code",
   "execution_count": 80,
   "metadata": {
    "pycharm": {
     "name": "#%%\n"
    }
   },
   "outputs": [],
   "source": [
    "# Convert list to DataFrame\n",
    "df1y_test = pd.DataFrame(prediction_test_RETCO, columns=['values'])\n",
    "\n",
    "# Save DataFrame to a CSV file\n",
    "df1y_test.to_csv('prediction_test_RETCO_lab2.csv', index=False)"
   ]
  },
  {
   "cell_type": "code",
   "execution_count": null,
   "metadata": {
    "pycharm": {
     "name": "#%%\n"
    }
   },
   "outputs": [],
   "source": []
  }
 ],
 "metadata": {
  "kernelspec": {
   "display_name": "Python 3",
   "language": "python",
   "name": "python3"
  },
  "language_info": {
   "codemirror_mode": {
    "name": "ipython",
    "version": 3
   },
   "file_extension": ".py",
   "mimetype": "text/x-python",
   "name": "python",
   "nbconvert_exporter": "python",
   "pygments_lexer": "ipython3",
   "version": "3.8.8"
  }
 },
 "nbformat": 4,
 "nbformat_minor": 1
}