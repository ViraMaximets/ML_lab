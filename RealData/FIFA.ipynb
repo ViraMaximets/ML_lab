{
 "cells": [
  {
   "cell_type": "code",
   "execution_count": 1,
   "outputs": [],
   "source": [
    "import warnings\n",
    "\n",
    "# Filter specific warning\n",
    "warnings.filterwarnings(\"ignore\")"
   ],
   "metadata": {
    "collapsed": false,
    "pycharm": {
     "name": "#%%\n"
    }
   }
  },
  {
   "cell_type": "code",
   "execution_count": 21,
   "outputs": [],
   "source": [
    "import numpy as np\n",
    "import pandas as pd\n",
    "import random\n",
    "\n",
    "df_org = pd.read_csv('../Dataset/kl.csv')\n",
    "df_org = df_org.head(10000)\n",
    "\n",
    "# Selecting the relevant variables\n",
    "col = ['Age', 'Overall', 'Potential', 'Wage', 'Special', 'Preferred Foot', 'International Reputation', 'Weak Foot',\n",
    "       'Skill Moves', 'Height', 'Weight', 'Club', 'Value']\n",
    "df = df_org[col]\n",
    "\n",
    "df.columns = ['Age', 'Overall', 'Potential', 'Wage', 'Special', 'PreferredFoot', 'InternationalReputation', 'WeakFoot',\n",
    "              'SkillMoves', 'Height', 'Weight', 'Club', 'Value']\n"
   ],
   "metadata": {
    "collapsed": false,
    "pycharm": {
     "name": "#%%\n"
    }
   }
  },
  {
   "cell_type": "code",
   "execution_count": 22,
   "outputs": [],
   "source": [
    "# Changing the format of several string variabls\n",
    "val = []\n",
    "for i in df['Value']:\n",
    "    if i[-1] == 'M':\n",
    "        val.append(float(i[1:-1]) * 1000000)\n",
    "    elif i[-1] == 'K':\n",
    "        val.append(float(i[1:-1]) * 1000)\n",
    "    else:\n",
    "        val.append(0)\n",
    "df.loc[:, 'Value'] = val\n",
    "\n",
    "val = []\n",
    "for i in df['Wage']:\n",
    "    if i[-1] == 'M':\n",
    "        val.append(float(i[1:-1]) * 1000000)\n",
    "    elif i[-1] == 'K':\n",
    "        val.append(float(i[1:-1]) * 1000)\n",
    "    else:\n",
    "        val.append(0)\n",
    "df.loc[:, 'Wage'] = val\n",
    "\n",
    "height = df.Height.str.split('\\'', 1)\n",
    "height0 = []\n",
    "height1 = []\n",
    "for i in height:\n",
    "    if type(i) is list:\n",
    "        height0.append(i[0])\n",
    "        height1.append(i[1])\n",
    "    else:\n",
    "        height0.append(0)\n",
    "        height1.append(0)\n",
    "\n",
    "height_cm = []\n",
    "for i in range(len(height)):\n",
    "    height_cm.append(round((float(height0[i]) * 30.48 + float(height1[i]) * 2.54) / 100, 3))\n",
    "df.loc[:, 'Height'] = height_cm\n",
    "\n",
    "df['Weight'] = pd.to_numeric(df['Weight'].str.rstrip('lbs'))\n",
    "\n",
    "df = df.iloc[np.where((df['Value'] > 0) & (df['Height'] > 0))]\n",
    "\n",
    "df.rename({'Club': 'cluster'}, axis=1, inplace=True)\n",
    "df.rename({'Value': 'y'}, axis=1, inplace=True)"
   ],
   "metadata": {
    "collapsed": false,
    "pycharm": {
     "name": "#%%\n"
    }
   }
  },
  {
   "cell_type": "code",
   "execution_count": 23,
   "outputs": [],
   "source": [
    "# енкодинг\n",
    "df['PreferredFoot'] = pd.Categorical(df['PreferredFoot']).codes\n",
    "df['cluster'] = pd.Categorical(df['cluster']).codes\n",
    "codes = pd.Categorical(df['cluster']).unique()"
   ],
   "metadata": {
    "collapsed": false,
    "pycharm": {
     "name": "#%%\n"
    }
   }
  },
  {
   "cell_type": "code",
   "execution_count": 24,
   "outputs": [
    {
     "data": {
      "text/plain": "[206, 316, 421, 363, 362, ..., 154, 353, 559, 569, 121]\nLength: 630\nCategories (630, int64): [206, 316, 421, 363, ..., 353, 559, 569, 121]"
     },
     "execution_count": 24,
     "metadata": {},
     "output_type": "execute_result"
    }
   ],
   "source": [
    "codes"
   ],
   "metadata": {
    "collapsed": false,
    "pycharm": {
     "name": "#%%\n"
    }
   }
  },
  {
   "cell_type": "code",
   "execution_count": 25,
   "outputs": [
    {
     "data": {
      "text/plain": "40000.0"
     },
     "execution_count": 25,
     "metadata": {},
     "output_type": "execute_result"
    }
   ],
   "source": [
    "# нормалізувати (наблизити до 0)\n",
    "min(df['y'])"
   ],
   "metadata": {
    "collapsed": false,
    "pycharm": {
     "name": "#%%\n"
    }
   }
  },
  {
   "cell_type": "code",
   "execution_count": 38,
   "outputs": [
    {
     "data": {
      "text/plain": "1.0"
     },
     "execution_count": 38,
     "metadata": {},
     "output_type": "execute_result"
    }
   ],
   "source": [
    "min(df['Wage'])"
   ],
   "metadata": {
    "collapsed": false,
    "pycharm": {
     "name": "#%%\n"
    }
   }
  },
  {
   "cell_type": "code",
   "execution_count": 26,
   "outputs": [],
   "source": [
    "df['y'] = df['y'] / 10000\n",
    "df['Wage'] = df['Wage'] / 1000"
   ],
   "metadata": {
    "collapsed": false,
    "pycharm": {
     "name": "#%%\n"
    }
   }
  },
  {
   "cell_type": "code",
   "execution_count": 59,
   "outputs": [
    {
     "data": {
      "text/plain": "    Age  Overall  Potential   Wage  Special  PreferredFoot  \\\n0  31.0     94.0         94  565.0     2202              0   \n1  33.0     94.0         94  405.0     2228              1   \n2  26.0     92.0         93  290.0     2143              1   \n3  27.0     91.0         93  260.0     1471              1   \n4  27.0     91.0         92  355.0     2281              1   \n5  27.0     91.0         91  340.0     2142              1   \n6  32.0     91.0         91  420.0     2280              1   \n\n   InternationalReputation  WeakFoot  SkillMoves  Height  Weight  cluster  \\\n0                      5.0       4.0         4.0   1.702     159      206   \n1                      5.0       4.0         5.0   1.880     183      316   \n2                      5.0       5.0         5.0   1.753     150      421   \n3                      4.0       3.0         1.0   1.930     168      363   \n4                      4.0       5.0         4.0   1.803     154      362   \n5                      4.0       4.0         4.0   1.727     163      132   \n6                      4.0       4.0         4.0   1.727     146      455   \n\n         y  \n0  11050.0  \n1   7700.0  \n2  11850.0  \n3   7200.0  \n4  10200.0  \n5   9300.0  \n6   6700.0  ",
      "text/html": "<div>\n<style scoped>\n    .dataframe tbody tr th:only-of-type {\n        vertical-align: middle;\n    }\n\n    .dataframe tbody tr th {\n        vertical-align: top;\n    }\n\n    .dataframe thead th {\n        text-align: right;\n    }\n</style>\n<table border=\"1\" class=\"dataframe\">\n  <thead>\n    <tr style=\"text-align: right;\">\n      <th></th>\n      <th>Age</th>\n      <th>Overall</th>\n      <th>Potential</th>\n      <th>Wage</th>\n      <th>Special</th>\n      <th>PreferredFoot</th>\n      <th>InternationalReputation</th>\n      <th>WeakFoot</th>\n      <th>SkillMoves</th>\n      <th>Height</th>\n      <th>Weight</th>\n      <th>cluster</th>\n      <th>y</th>\n    </tr>\n  </thead>\n  <tbody>\n    <tr>\n      <th>0</th>\n      <td>31.0</td>\n      <td>94.0</td>\n      <td>94</td>\n      <td>565.0</td>\n      <td>2202</td>\n      <td>0</td>\n      <td>5.0</td>\n      <td>4.0</td>\n      <td>4.0</td>\n      <td>1.702</td>\n      <td>159</td>\n      <td>206</td>\n      <td>11050.0</td>\n    </tr>\n    <tr>\n      <th>1</th>\n      <td>33.0</td>\n      <td>94.0</td>\n      <td>94</td>\n      <td>405.0</td>\n      <td>2228</td>\n      <td>1</td>\n      <td>5.0</td>\n      <td>4.0</td>\n      <td>5.0</td>\n      <td>1.880</td>\n      <td>183</td>\n      <td>316</td>\n      <td>7700.0</td>\n    </tr>\n    <tr>\n      <th>2</th>\n      <td>26.0</td>\n      <td>92.0</td>\n      <td>93</td>\n      <td>290.0</td>\n      <td>2143</td>\n      <td>1</td>\n      <td>5.0</td>\n      <td>5.0</td>\n      <td>5.0</td>\n      <td>1.753</td>\n      <td>150</td>\n      <td>421</td>\n      <td>11850.0</td>\n    </tr>\n    <tr>\n      <th>3</th>\n      <td>27.0</td>\n      <td>91.0</td>\n      <td>93</td>\n      <td>260.0</td>\n      <td>1471</td>\n      <td>1</td>\n      <td>4.0</td>\n      <td>3.0</td>\n      <td>1.0</td>\n      <td>1.930</td>\n      <td>168</td>\n      <td>363</td>\n      <td>7200.0</td>\n    </tr>\n    <tr>\n      <th>4</th>\n      <td>27.0</td>\n      <td>91.0</td>\n      <td>92</td>\n      <td>355.0</td>\n      <td>2281</td>\n      <td>1</td>\n      <td>4.0</td>\n      <td>5.0</td>\n      <td>4.0</td>\n      <td>1.803</td>\n      <td>154</td>\n      <td>362</td>\n      <td>10200.0</td>\n    </tr>\n    <tr>\n      <th>5</th>\n      <td>27.0</td>\n      <td>91.0</td>\n      <td>91</td>\n      <td>340.0</td>\n      <td>2142</td>\n      <td>1</td>\n      <td>4.0</td>\n      <td>4.0</td>\n      <td>4.0</td>\n      <td>1.727</td>\n      <td>163</td>\n      <td>132</td>\n      <td>9300.0</td>\n    </tr>\n    <tr>\n      <th>6</th>\n      <td>32.0</td>\n      <td>91.0</td>\n      <td>91</td>\n      <td>420.0</td>\n      <td>2280</td>\n      <td>1</td>\n      <td>4.0</td>\n      <td>4.0</td>\n      <td>4.0</td>\n      <td>1.727</td>\n      <td>146</td>\n      <td>455</td>\n      <td>6700.0</td>\n    </tr>\n  </tbody>\n</table>\n</div>"
     },
     "execution_count": 59,
     "metadata": {},
     "output_type": "execute_result"
    }
   ],
   "source": [
    "df.head(7)"
   ],
   "metadata": {
    "collapsed": false,
    "pycharm": {
     "name": "#%%\n"
    }
   }
  },
  {
   "cell_type": "markdown",
   "source": [
    "## Train Test split"
   ],
   "metadata": {
    "collapsed": false,
    "pycharm": {
     "name": "#%% md\n"
    }
   }
  },
  {
   "cell_type": "code",
   "execution_count": 28,
   "outputs": [],
   "source": [
    "## Дані будуть розділені на тренувальну і тестувальну вибірки, так щоб не було однакових значень 'cluster' між цими вибірками.\n",
    "version = 'CV'\n",
    "depth = 5\n",
    "NoCov = 2"
   ],
   "metadata": {
    "collapsed": false,
    "pycharm": {
     "name": "#%%\n"
    }
   }
  },
  {
   "cell_type": "code",
   "execution_count": 60,
   "outputs": [],
   "source": [
    "labels = np.array(df['y'])\n",
    "features= df.drop('y', axis = 1)\n",
    "\n",
    "feature_list = list(features.columns)\n",
    "features = np.array(features)"
   ],
   "metadata": {
    "collapsed": false,
    "pycharm": {
     "name": "#%%\n"
    }
   }
  },
  {
   "cell_type": "code",
   "execution_count": 76,
   "outputs": [
    {
     "name": "stdout",
     "output_type": "stream",
     "text": [
      "Age                        1\n",
      "Overall                    1\n",
      "Potential                  0\n",
      "Wage                       0\n",
      "Special                    0\n",
      "PreferredFoot              0\n",
      "InternationalReputation    0\n",
      "WeakFoot                   0\n",
      "SkillMoves                 0\n",
      "Height                     0\n",
      "Weight                     0\n",
      "cluster                    0\n",
      "y                          0\n",
      "dtype: int64\n"
     ]
    }
   ],
   "source": [
    "missing_values = df.isna().sum()\n",
    "print(missing_values)\n",
    "df = df.dropna()"
   ],
   "metadata": {
    "collapsed": false,
    "pycharm": {
     "name": "#%%\n"
    }
   }
  },
  {
   "cell_type": "code",
   "execution_count": 77,
   "outputs": [
    {
     "name": "stdout",
     "output_type": "stream",
     "text": [
      "Training Features Shape: (255, 13)\n",
      "Training Labels Shape: (255,)\n",
      "Testing Features Shape: (9582, 13)\n",
      "Testing Labels Shape: (9582,)\n"
     ]
    }
   ],
   "source": [
    "sample_clusters = random.sample(set(df.cluster.unique()), 20)\n",
    "df_tr = df.loc[df['cluster'].isin(sample_clusters)]\n",
    "train_labels = np.array(df_tr['y'])\n",
    "\n",
    "df_test = df.loc[~df['cluster'].isin(sample_clusters)]\n",
    "test_labels = np.array(df_test['y'])\n",
    "\n",
    "print('Training Features Shape:', df_tr.shape)\n",
    "print('Training Labels Shape:', df_tr['y'].shape)\n",
    "print('Testing Features Shape:', df_test.shape)\n",
    "print('Testing Labels Shape:', df_test['y'].shape)"
   ],
   "metadata": {
    "collapsed": false,
    "pycharm": {
     "name": "#%%\n"
    }
   }
  },
  {
   "cell_type": "markdown",
   "source": [
    "## The analysis"
   ],
   "metadata": {
    "collapsed": false,
    "pycharm": {
     "name": "#%% md\n"
    }
   }
  },
  {
   "cell_type": "markdown",
   "source": [
    "# RETCO"
   ],
   "metadata": {
    "collapsed": false,
    "pycharm": {
     "name": "#%% md\n"
    }
   }
  },
  {
   "cell_type": "code",
   "execution_count": 88,
   "outputs": [
    {
     "name": "stdout",
     "output_type": "stream",
     "text": [
      "best overall metric: 230714.49005679475\n",
      "best overall metric: 229540.93205734057\n",
      "best overall metric: 220054.1728340568\n",
      "best overall metric: 202180.17825487175\n",
      "best overall metric: 184596.73492102989\n",
      "best overall metric: 162967.3749290129\n",
      "best overall metric: 147834.2334772708\n",
      "best overall metric: 134570.67698313258\n",
      "best overall metric: 113712.6135013153\n",
      "best overall metric: 94497.15832745167\n",
      "best overall metric: 93891.83279461485\n",
      "best overall metric: 85987.79670870859\n",
      "best overall metric: 81862.62735730717\n",
      "best overall metric: 76159.04713686835\n",
      "best overall metric: 70158.3915330004\n",
      "best overall metric: 63729.709260206764\n",
      "best overall metric: 59852.80111240931\n",
      "best overall metric: 59453.93173503757\n",
      "best overall metric: 58402.52847123515\n",
      "best overall metric: 58116.13852030226\n",
      "best overall metric: 57897.25638279577\n",
      "best overall metric: 57821.31323354506\n",
      "best overall metric: 57775.98998187898\n",
      "best overall metric: 57678.722330181066\n",
      "best overall metric: 57578.13307472781\n",
      "best overall metric: 57193.23632817227\n",
      "best overall metric: 56367.79540418961\n",
      "best overall metric: 55337.69570872385\n",
      "best overall metric: 54164.966642834464\n",
      "best overall metric: 53791.88743277558\n",
      "best overall metric: 52993.10672565965\n",
      "best overall metric: 51936.3473552448\n",
      "best overall metric: 40500.7106561207\n",
      "best overall metric: 39267.78000990583\n",
      "best overall metric: 34449.20375224945\n",
      "best overall metric: 34160.380385338474\n",
      "best overall metric: 34085.00826765992\n",
      "best overall metric: 34036.91661710356\n",
      "best overall metric: 33939.64896540563\n",
      "best overall metric: 33845.96535608659\n",
      "best overall metric: 33476.81796304255\n",
      "best overall metric: 32628.72203941424\n",
      "best overall metric: 31598.622343948315\n",
      "best overall metric: 30425.893278059048\n",
      "best overall metric: 30052.8140680001\n",
      "best overall metric: 29875.86094479107\n",
      "best overall metric: 29647.122910821938\n",
      "best overall metric: 29571.17976157124\n",
      "best overall metric: 29525.856509905225\n",
      "best overall metric: 29428.588858207248\n",
      "best overall metric: 29327.999602753905\n",
      "best overall metric: 28943.1028561984\n",
      "best overall metric: 28117.66193221586\n",
      "best overall metric: 27087.56223674994\n",
      "best overall metric: 25914.83317086067\n",
      "best overall metric: 25541.753960801732\n",
      "best overall metric: 25518.734990961726\n",
      "best overall metric: 25388.34633321385\n",
      "best overall metric: 25386.437088569717\n",
      "best overall metric: 25343.903059728676\n",
      "best overall metric: 25328.434018787913\n",
      "best overall metric: 25278.58165329231\n",
      "best overall metric: 25259.772593234018\n",
      "best overall metric: 25191.00416412599\n",
      "best overall metric: 25143.435435008385\n",
      "best overall metric: 24053.588867603965\n",
      "best overall metric: 21455.9635952728\n",
      "best overall metric: 20995.687602285623\n",
      "best overall metric: 20976.36491591719\n",
      "best overall metric: 20820.424687237886\n",
      "best overall metric: 20777.01073747189\n",
      "best overall metric: 20769.88908840785\n",
      "best overall metric: 20769.175355586434\n",
      "best overall metric: 20752.522284737934\n",
      "best overall metric: 20644.421500382377\n",
      "best overall metric: 20586.114547307898\n",
      "best overall metric: 19485.667221627995\n",
      "best overall metric: 16888.041949296883\n",
      "best overall metric: 16865.022979456848\n",
      "best overall metric: 16734.63432170899\n",
      "best overall metric: 16732.725077064868\n",
      "best overall metric: 16690.19104822379\n",
      "best overall metric: 16674.722007283053\n",
      "best overall metric: 16624.869641787416\n",
      "best overall metric: 16606.060581729194\n",
      "best overall metric: 16537.292152621118\n",
      "best overall metric: 16489.72342350351\n",
      "best overall metric: 15860.26417151908\n",
      "best overall metric: 15741.527788076819\n",
      "best overall metric: 15338.765660759313\n",
      "best overall metric: 15331.333450062002\n",
      "best overall metric: 14280.611872616815\n",
      "best overall metric: 14257.592902776803\n",
      "best overall metric: 14127.204245028946\n",
      "best overall metric: 14125.295000384796\n",
      "best overall metric: 14082.760971543721\n",
      "best overall metric: 14067.291930603022\n",
      "best overall metric: 14017.439565107374\n",
      "best overall metric: 13998.630505049165\n",
      "best overall metric: 13929.862075941064\n",
      "best overall metric: 13882.29334682347\n",
      "best overall metric: 13252.834094839043\n",
      "best overall metric: 13134.09771139677\n",
      "best overall metric: 13093.792700503529\n",
      "best overall metric: 12278.433223379347\n",
      "best overall metric: 12255.414253539331\n",
      "best overall metric: 12125.025595791478\n",
      "best overall metric: 12123.11635114732\n",
      "best overall metric: 12080.58232230624\n",
      "best overall metric: 12065.113281365531\n",
      "best overall metric: 12015.260915869894\n",
      "best overall metric: 11998.49379738615\n",
      "best overall metric: 11927.683426703585\n",
      "best overall metric: 11880.114697585994\n",
      "best overall metric: 11252.5370013482\n",
      "best overall metric: 11134.556104555313\n",
      "best overall metric: 11108.900092319282\n",
      "best overall metric: 10978.511434571421\n",
      "best overall metric: 10976.60218992727\n",
      "best overall metric: 10934.068161086194\n",
      "best overall metric: 10918.599120145489\n",
      "best overall metric: 10882.88386763058\n",
      "best overall metric: 10875.37856808268\n",
      "best overall metric: 10781.16926548354\n",
      "best overall metric: 10733.600536365948\n",
      "best overall metric: 10220.78624611375\n",
      "best overall metric: 10138.782960509836\n",
      "best overall metric: 10118.690453240617\n",
      "best overall metric: 9969.05842378131\n",
      "best overall metric: 9967.149179137155\n",
      "best overall metric: 9924.615150296087\n",
      "best overall metric: 9911.186210443037\n",
      "best overall metric: 9899.814396531387\n",
      "best overall metric: 9885.11169546936\n",
      "best overall metric: 9774.801360472842\n",
      "best overall metric: 9724.147525575832\n",
      "best overall metric: 9531.711903189029\n",
      "best overall metric: 9508.615831483703\n",
      "best overall metric: 9483.594420720508\n",
      "best overall metric: 9353.20576297265\n",
      "best overall metric: 9351.296518328498\n",
      "best overall metric: 9308.762489487417\n",
      "best overall metric: 9293.293448546721\n",
      "best overall metric: 9243.681355216013\n",
      "best overall metric: 9226.933518628826\n",
      "best overall metric: 9155.86359388477\n",
      "best overall metric: 9108.294864767171\n",
      "best overall metric: 9105.274307659076\n",
      "best overall metric: 9097.092779239434\n",
      "best overall metric: 9093.17885275609\n",
      "best overall metric: 9078.898700122641\n",
      "best overall metric: 9062.283770887103\n",
      "best overall metric: 9037.147141690246\n",
      "best overall metric: 9019.769860642471\n",
      "best overall metric: 8872.786539536255\n",
      "best overall metric: 8869.765982428164\n",
      "best overall metric: 8861.584454008524\n",
      "best overall metric: 8857.670527525172\n",
      "best overall metric: 8843.390374891724\n",
      "best overall metric: 8826.775445656189\n",
      "best overall metric: 8801.638816459334\n",
      "best overall metric: 8741.852771762215\n",
      "best overall metric: 8730.675015246332\n",
      "best overall metric: 8721.553433260116\n",
      "best overall metric: 8718.532876152025\n",
      "best overall metric: 8710.351347732383\n",
      "best overall metric: 8706.437421249037\n",
      "best overall metric: 8692.157268615587\n",
      "best overall metric: 8675.54233938005\n",
      "best overall metric: 8650.405710183193\n",
      "best overall metric: 8590.619665486081\n",
      "best overall metric: 8587.599108377986\n",
      "best overall metric: 8579.417579958345\n",
      "best overall metric: 8575.503653474998\n",
      "best overall metric: 8561.223500841546\n",
      "best overall metric: 8544.608571606008\n",
      "best overall metric: 8519.471942409155\n",
      "best overall metric: 8516.267966374297\n",
      "best overall metric: 8516.071887942924\n",
      "best overall metric: 8458.068705494547\n",
      "best overall metric: 8454.864729459689\n",
      "best overall metric: 8454.668651028314\n"
     ]
    }
   ],
   "source": [
    "from RealData import ClusteredRETCO as RETCOfile\n",
    "\n",
    "RETCO = RETCOfile.CreateTree(version, df_tr, depth=depth, min_leaf_sample=3, StoppingRule='Yes', random_subspace=None)"
   ],
   "metadata": {
    "collapsed": false,
    "pycharm": {
     "name": "#%%\n"
    }
   }
  },
  {
   "cell_type": "code",
   "execution_count": 91,
   "outputs": [
    {
     "data": {
      "text/plain": "{\"(pred['Overall']<=77.0)*(pred['Overall']<=72.0)*(pred['Overall']<=70.0)*(pred['Potential']<=69.0)*(pred['Age']<=30.0)\": 75.19841269841271,\n \"(pred['Overall']>77.0)*(pred['Potential']<=80.0)*(pred['Age']<=29.0)\": 1210.0,\n \"(pred['Overall']<=77.0)*(pred['Overall']>72.0)*(pred['Potential']<=74.0)*(pred['Age']<=33.0)*(pred['Wage']<=20.0)\": 318.57142857142856,\n \"(pred['Overall']>77.0)*(pred['Potential']>80.0)*(pred['Overall']<=80.0)*(pred['WeakFoot']<=3.0)\": 1450.0,\n \"(pred['Overall']<=77.0)*(pred['Overall']>72.0)*(pred['Potential']>74.0)*(pred['Age']<=31.0)*(pred['Overall']<=73.0)\": 523.3333333333333,\n \"(pred['Overall']<=77.0)*(pred['Overall']<=72.0)*(pred['Overall']>70.0)*(pred['Age']<=27.0)*(pred['Potential']<=77.0)\": 310.0,\n \"(pred['Overall']>77.0)*(pred['Potential']>80.0)*(pred['Overall']>80.0)*(pred['Special']<=2054.0)\": 2533.333333333333,\n \"(pred['Overall']>77.0)*(pred['Potential']<=80.0)*(pred['Age']>29.0)\": 602.0000000000001,\n \"(pred['Overall']<=77.0)*(pred['Overall']>72.0)*(pred['Potential']>74.0)*(pred['Age']>31.0)\": 314.0,\n \"(pred['Overall']>77.0)*(pred['Potential']>80.0)*(pred['Overall']>80.0)*(pred['Special']>2054.0)\": 1962.5,\n \"(pred['Overall']>77.0)*(pred['Potential']>80.0)*(pred['Overall']<=80.0)*(pred['WeakFoot']>3.0)\": 1833.333333333333,\n \"(pred['Overall']<=77.0)*(pred['Overall']>72.0)*(pred['Potential']>74.0)*(pred['Age']<=31.0)*(pred['Overall']>73.0)\": 759.5238095238095,\n \"(pred['Overall']<=77.0)*(pred['Overall']<=72.0)*(pred['Overall']>70.0)*(pred['Age']>27.0)*(pred['Age']<=29.0)\": 258.0,\n \"(pred['Overall']<=77.0)*(pred['Overall']<=72.0)*(pred['Overall']<=70.0)*(pred['Potential']>69.0)*(pred['Overall']<=68.0)\": 101.04651162790687,\n \"(pred['Overall']<=77.0)*(pred['Overall']>72.0)*(pred['Potential']<=74.0)*(pred['Age']>33.0)\": 164.99999999999997,\n \"(pred['Overall']<=77.0)*(pred['Overall']<=72.0)*(pred['Overall']<=70.0)*(pred['Potential']>69.0)*(pred['Overall']>68.0)\": 152.49999999999994,\n \"(pred['Overall']<=77.0)*(pred['Overall']<=72.0)*(pred['Overall']>70.0)*(pred['Age']<=27.0)*(pred['Potential']>77.0)\": 395.7142857142857,\n \"(pred['Overall']<=77.0)*(pred['Overall']<=72.0)*(pred['Overall']<=70.0)*(pred['Potential']<=69.0)*(pred['Age']>30.0)\": 39.02777777777777,\n \"(pred['Overall']<=77.0)*(pred['Overall']<=72.0)*(pred['Overall']>70.0)*(pred['Age']>27.0)*(pred['Age']>29.0)\": 190.0,\n \"(pred['Overall']<=77.0)*(pred['Overall']>72.0)*(pred['Potential']<=74.0)*(pred['Age']<=33.0)*(pred['Wage']>20.0)\": 349.99999999999994}"
     },
     "execution_count": 91,
     "metadata": {},
     "output_type": "execute_result"
    }
   ],
   "source": [
    "RETCO"
   ],
   "metadata": {
    "collapsed": false,
    "pycharm": {
     "name": "#%%\n"
    }
   }
  },
  {
   "cell_type": "code",
   "execution_count": 102,
   "outputs": [],
   "source": [
    "covariates_pred_test = df_test.iloc[:, :-NoCov].values\n",
    "col_names = df_test.iloc[:, :-NoCov].columns"
   ],
   "metadata": {
    "collapsed": false,
    "pycharm": {
     "name": "#%%\n"
    }
   }
  },
  {
   "cell_type": "code",
   "execution_count": 103,
   "outputs": [],
   "source": [
    "prediction_test_RETCO = RETCOfile.predictionFun(col_names, covariates_pred_test, RETCO)"
   ],
   "metadata": {
    "collapsed": false,
    "pycharm": {
     "name": "#%%\n"
    }
   }
  },
  {
   "cell_type": "code",
   "execution_count": 104,
   "outputs": [
    {
     "data": {
      "text/plain": "Index(['Age', 'Overall', 'Potential', 'Wage', 'Special', 'PreferredFoot',\n       'InternationalReputation', 'WeakFoot', 'SkillMoves', 'Height',\n       'Weight'],\n      dtype='object')"
     },
     "execution_count": 104,
     "metadata": {},
     "output_type": "execute_result"
    }
   ],
   "source": [
    "col_names"
   ],
   "metadata": {
    "collapsed": false,
    "pycharm": {
     "name": "#%%\n"
    }
   }
  },
  {
   "cell_type": "code",
   "execution_count": 108,
   "outputs": [],
   "source": [
    "y_test = df_test['y'].values"
   ],
   "metadata": {
    "collapsed": false,
    "pycharm": {
     "name": "#%%\n"
    }
   }
  },
  {
   "cell_type": "code",
   "execution_count": 110,
   "outputs": [],
   "source": [
    "prediction_test_RETCO = RETCOfile.predictionFun(col_names, covariates_pred_test, RETCO)"
   ],
   "metadata": {
    "collapsed": false,
    "pycharm": {
     "name": "#%%\n"
    }
   }
  },
  {
   "cell_type": "code",
   "execution_count": 134,
   "outputs": [
    {
     "name": "stdout",
     "output_type": "stream",
     "text": [
      "Mean Absolute RETCO Error: 114.92 dollars.\n"
     ]
    }
   ],
   "source": [
    "errors2 = abs(prediction_test_RETCO - y_test)\n",
    "# Print out the mean absolute error (mae)\n",
    "print('Mean Absolute RETCO Error:', round(np.mean(errors2), 2), 'dollars.')"
   ],
   "metadata": {
    "collapsed": false,
    "pycharm": {
     "name": "#%%\n"
    }
   }
  },
  {
   "cell_type": "code",
   "execution_count": 138,
   "outputs": [
    {
     "name": "stdout",
     "output_type": "stream",
     "text": [
      "Accuracy: 69.44 %.\n"
     ]
    }
   ],
   "source": [
    "mape = 100 * (errors2 / y_test)\n",
    "# Calculate and display accuracy\n",
    "accuracy = 100 - np.mean(mape)\n",
    "print('Accuracy:', round(accuracy, 2), '%.')"
   ],
   "metadata": {
    "collapsed": false,
    "pycharm": {
     "name": "#%%\n"
    }
   }
  },
  {
   "cell_type": "code",
   "execution_count": 129,
   "outputs": [],
   "source": [
    "# Convert list to DataFrame\n",
    "df1y_test = pd.DataFrame(prediction_test_RETCO, columns=['values'])\n",
    "\n",
    "# Save DataFrame to a CSV file\n",
    "df1y_test.to_csv('prediction_test_RETCO.csv', index=False)"
   ],
   "metadata": {
    "collapsed": false,
    "pycharm": {
     "name": "#%%\n"
    }
   }
  },
  {
   "cell_type": "markdown",
   "source": [],
   "metadata": {
    "collapsed": false,
    "pycharm": {
     "name": "#%% md\n"
    }
   }
  },
  {
   "cell_type": "code",
   "execution_count": 116,
   "outputs": [
    {
     "name": "stdout",
     "output_type": "stream",
     "text": [
      "best_overall_metric 221454.80406096362\n",
      "best_overall_metric 218275.35720490178\n",
      "best_overall_metric 216962.51256081107\n",
      "best_overall_metric 207097.73019874888\n",
      "best_overall_metric 190038.20508334378\n",
      "best_overall_metric 173991.88709287462\n",
      "best_overall_metric 155204.50210429734\n",
      "best_overall_metric 141602.50721314384\n",
      "best_overall_metric 129940.58259676183\n",
      "best_overall_metric 112477.12813493956\n",
      "best_overall_metric 94302.56190140641\n",
      "best_overall_metric 94225.43332245386\n",
      "best_overall_metric 83254.45518318795\n",
      "best_overall_metric 45452.20359669738\n",
      "best_overall_metric 44886.344348936895\n",
      "best_overall_metric 44626.747793297276\n",
      "best_overall_metric 44611.17500106543\n",
      "best_overall_metric 44583.17819307424\n",
      "best_overall_metric 44120.94338769204\n",
      "best_overall_metric 40382.168088115155\n",
      "best_overall_metric 35331.58220156338\n",
      "best_overall_metric 30159.867154745276\n",
      "best_overall_metric 24012.753206510435\n",
      "best_overall_metric 20528.782233390993\n",
      "best_overall_metric 20055.675943747912\n",
      "best_overall_metric 18743.071760810308\n",
      "best_overall_metric 18672.165677616245\n",
      "best_overall_metric 14315.952695076\n",
      "best_overall_metric 13856.909599479068\n",
      "best_overall_metric 13432.568486184175\n",
      "best_overall_metric 13431.450998442764\n",
      "best_overall_metric 12977.836014772785\n",
      "best_overall_metric 12251.161249122435\n",
      "best_overall_metric 10396.454698302721\n",
      "best_overall_metric 8323.216387340575\n",
      "best_overall_metric 5997.213989534604\n",
      "best_overall_metric 5089.31762188253\n",
      "best_overall_metric 1958.5156216331438\n",
      "best_overall_metric 1718.0897155678285\n",
      "best_overall_metric 1713.8442710274562\n",
      "best_overall_metric 1641.7248955282287\n",
      "best_overall_metric 1619.605894798535\n",
      "best_overall_metric 1528.4385735299486\n",
      "best_overall_metric 1503.3017464209786\n",
      "best_overall_metric 1382.0558505449899\n",
      "best_overall_metric 1301.646249566754\n",
      "best_overall_metric 510.5673934541091\n",
      "best_overall_metric 485.0613269414914\n",
      "best_overall_metric 472.3003438814265\n",
      "best_overall_metric 427.86892612029675\n",
      "best_overall_metric 376.1594391963671\n",
      "best_overall_metric 297.91850849947633\n",
      "best_overall_metric 2275.656247092644\n",
      "best_overall_metric 2108.9517459014173\n",
      "best_overall_metric 1976.7916265443573\n",
      "best_overall_metric 1697.168056418871\n",
      "best_overall_metric 1667.2658385485486\n",
      "best_overall_metric 12253.40066143896\n",
      "best_overall_metric 12149.001764969264\n",
      "best_overall_metric 9993.898873648819\n",
      "best_overall_metric 8560.788158727017\n",
      "best_overall_metric 7369.7221413790885\n",
      "best_overall_metric 10643.750396603855\n",
      "best_overall_metric 10214.120273701083\n",
      "best_overall_metric 9968.426696727112\n",
      "best_overall_metric 8568.407744124948\n",
      "best_overall_metric 8140.7027725495045\n",
      "best_overall_metric 7899.195006037707\n",
      "best_overall_metric 4684.611437923863\n",
      "best_overall_metric 3787.639920249284\n",
      "best_overall_metric 3774.341989195496\n",
      "best_overall_metric 3119.051699115424\n",
      "best_overall_metric 34020.76021060729\n",
      "best_overall_metric 32050.739978144444\n",
      "best_overall_metric 30459.368790702552\n",
      "best_overall_metric 21569.007081073785\n",
      "best_overall_metric 19293.66951719869\n",
      "best_overall_metric 10447.680030259242\n",
      "best_overall_metric 10224.63221446507\n",
      "best_overall_metric 7782.120444421906\n",
      "best_overall_metric 11115.004139576791\n",
      "best_overall_metric 449798.5885412725\n",
      "best_overall_metric 436432.5988308452\n",
      "best_overall_metric 435502.3357744044\n",
      "best_overall_metric 382616.62798732705\n",
      "best_overall_metric 374741.6623281838\n",
      "best_overall_metric 245453.7479283861\n",
      "best_overall_metric 225674.22760450514\n",
      "best_overall_metric 184697.3836499351\n",
      "best_overall_metric 115549.77175923192\n",
      "best_overall_metric 50524.82298301853\n",
      "best_overall_metric 168804.55064313175\n",
      "best_overall_metric 168804.55064313175\n",
      "best_overall_metric 126530.60706221573\n",
      "best_overall_metric 73884.58405574881\n",
      "best_overall_metric 73884.58405574881\n",
      "best_overall_metric 66895.62491827064\n",
      "best_overall_metric 30337.301587301594\n",
      "best_overall_metric 27546.03174603175\n",
      "best_overall_metric 217333.40698343326\n",
      "best_overall_metric 151188.38045634914\n",
      "best_overall_metric 151188.38045634914\n",
      "best_overall_metric 143361.15880669703\n",
      "best_overall_metric 121000.99161802385\n"
     ]
    }
   ],
   "source": [
    "from RealData import CHRT as RTfile # regretion tree file\n",
    "\n",
    "tree = RTfile.decision_tree_algorithm(version, df_tr, max_depth=depth, min_leaf_sample=3, counter=0,\n",
    "                                      random_subspace=None)"
   ],
   "metadata": {
    "collapsed": false,
    "pycharm": {
     "name": "#%%\n"
    }
   }
  },
  {
   "cell_type": "code",
   "execution_count": 118,
   "outputs": [],
   "source": [
    "prediction_test = RTfile.decision_tree_predictions(df_test, tree)"
   ],
   "metadata": {
    "collapsed": false,
    "pycharm": {
     "name": "#%%\n"
    }
   }
  },
  {
   "cell_type": "code",
   "execution_count": 124,
   "outputs": [],
   "source": [
    "# Convert list to DataFrame\n",
    "df1y_test = pd.DataFrame(prediction_test, columns=['values'])\n",
    "\n",
    "# Save DataFrame to a CSV file\n",
    "df1y_test.to_csv('prediction_test_RTfile.csv', index=False)"
   ],
   "metadata": {
    "collapsed": false,
    "pycharm": {
     "name": "#%%\n"
    }
   }
  },
  {
   "cell_type": "code",
   "execution_count": 119,
   "outputs": [],
   "source": [
    "new_y_test = y_test[1:]"
   ],
   "metadata": {
    "collapsed": false,
    "pycharm": {
     "name": "#%%\n"
    }
   }
  },
  {
   "cell_type": "code",
   "execution_count": 127,
   "outputs": [],
   "source": [
    "# Convert list to DataFrame\n",
    "df1y_test = pd.DataFrame(y_test, columns=['y_test'])\n",
    "\n",
    "# Save DataFrame to a CSV file\n",
    "df1y_test.to_csv('y_test.csv', index=False)"
   ],
   "metadata": {
    "collapsed": false,
    "pycharm": {
     "name": "#%%\n"
    }
   }
  },
  {
   "cell_type": "code",
   "execution_count": 133,
   "outputs": [
    {
     "name": "stdout",
     "output_type": "stream",
     "text": [
      "Mean Absolute RTerror: 112.49 dollars.\n"
     ]
    }
   ],
   "source": [
    "errors3 = abs(prediction_test - y_test)\n",
    "# Print out the mean absolute error (mae)\n",
    "print('Mean Absolute RTerror:', round(np.mean(errors3), 2), 'dollars.')"
   ],
   "metadata": {
    "collapsed": false,
    "pycharm": {
     "name": "#%%\n"
    }
   }
  },
  {
   "cell_type": "code",
   "execution_count": 139,
   "outputs": [
    {
     "name": "stdout",
     "output_type": "stream",
     "text": [
      "Accuracy: 69.9 %.\n"
     ]
    }
   ],
   "source": [
    "mape = 100 * (errors3 / y_test)\n",
    "# Calculate and display accuracy\n",
    "accuracy = 100 - np.mean(mape)\n",
    "print('Accuracy:', round(accuracy, 2), '%.')"
   ],
   "metadata": {
    "collapsed": false,
    "pycharm": {
     "name": "#%%\n"
    }
   }
  },
  {
   "cell_type": "code",
   "execution_count": null,
   "outputs": [],
   "source": [],
   "metadata": {
    "collapsed": false,
    "pycharm": {
     "name": "#%%\n"
    }
   }
  }
 ],
 "metadata": {
  "kernelspec": {
   "display_name": "Python 3",
   "language": "python",
   "name": "python3"
  },
  "language_info": {
   "codemirror_mode": {
    "name": "ipython",
    "version": 2
   },
   "file_extension": ".py",
   "mimetype": "text/x-python",
   "name": "python",
   "nbconvert_exporter": "python",
   "pygments_lexer": "ipython2",
   "version": "2.7.6"
  }
 },
 "nbformat": 4,
 "nbformat_minor": 0
}