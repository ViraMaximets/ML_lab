{
 "cells": [
  {
   "cell_type": "code",
   "execution_count": 1,
   "outputs": [],
   "source": [
    "import warnings\n",
    "\n",
    "# Filter specific warning\n",
    "warnings.filterwarnings(\"ignore\")"
   ],
   "metadata": {
    "collapsed": false,
    "pycharm": {
     "name": "#%%\n"
    }
   }
  },
  {
   "cell_type": "code",
   "execution_count": 36,
   "outputs": [],
   "source": [
    "import numpy as np\n",
    "import pandas as pd\n",
    "import random\n",
    "\n",
    "df_org = pd.read_csv('../Dataset/kl.csv')\n",
    "df_org = df_org.head(10000)\n",
    "\n",
    "# Selecting the relevant variables\n",
    "col = ['Age', 'Overall', 'Potential', 'Wage', 'Special', 'Preferred Foot', 'International Reputation', 'Weak Foot',\n",
    "       'Skill Moves', 'Height', 'Weight', 'Club', 'Value']\n",
    "df = df_org[col]\n",
    "\n",
    "df.columns = ['Age', 'Overall', 'Potential', 'Wage', 'Special', 'PreferredFoot', 'InternationalReputation', 'WeakFoot',\n",
    "              'SkillMoves', 'Height', 'Weight', 'Club', 'Value']\n"
   ],
   "metadata": {
    "collapsed": false,
    "pycharm": {
     "name": "#%%\n"
    }
   }
  },
  {
   "cell_type": "code",
   "execution_count": 39,
   "outputs": [],
   "source": [
    "# Changing the format of several string variabls\n",
    "val = []\n",
    "for i in df['Value']:\n",
    "    if i[-1] == 'M':\n",
    "        val.append(float(i[1:-1]) * 1000000)\n",
    "    elif i[-1] == 'K':\n",
    "        val.append(float(i[1:-1]) * 1000)\n",
    "    else:\n",
    "        val.append(0)\n",
    "df.loc[:, 'Value'] = val\n",
    "\n",
    "val = []\n",
    "for i in df['Wage']:\n",
    "    if i[-1] == 'M':\n",
    "        val.append(float(i[1:-1]) * 1000000)\n",
    "    elif i[-1] == 'K':\n",
    "        val.append(float(i[1:-1]) * 1000)\n",
    "    else:\n",
    "        val.append(0)\n",
    "df.loc[:, 'Wage'] = val\n",
    "\n",
    "height = df.Height.str.split('\\'', 1)\n",
    "height0 = []\n",
    "height1 = []\n",
    "for i in height:\n",
    "    if type(i) is list:\n",
    "        height0.append(i[0])\n",
    "        height1.append(i[1])\n",
    "    else:\n",
    "        height0.append(0)\n",
    "        height1.append(0)\n",
    "\n",
    "height_cm = []\n",
    "for i in range(len(height)):\n",
    "    height_cm.append(round((float(height0[i]) * 30.48 + float(height1[i]) * 2.54) / 100, 3))\n",
    "df.loc[:, 'Height'] = height_cm\n",
    "\n",
    "df['Weight'] = pd.to_numeric(df['Weight'].str.rstrip('lbs'))\n",
    "\n",
    "df = df.iloc[np.where((df['Value'] > 0) & (df['Height'] > 0))]\n",
    "\n",
    "df.rename({'Club': 'cluster'}, axis=1, inplace=True)\n",
    "df.rename({'Value': 'y'}, axis=1, inplace=True)"
   ],
   "metadata": {
    "collapsed": false,
    "pycharm": {
     "name": "#%%\n"
    }
   }
  },
  {
   "cell_type": "code",
   "execution_count": 40,
   "outputs": [
    {
     "data": {
      "text/plain": "    Age  Overall  Potential      Wage  Special PreferredFoot  \\\n0  31.0     94.0         94  565000.0     2202          Left   \n1  33.0     94.0         94  405000.0     2228         Right   \n2  26.0     92.0         93  290000.0     2143         Right   \n3  27.0     91.0         93  260000.0     1471         Right   \n4  27.0     91.0         92  355000.0     2281         Right   \n5  27.0     91.0         91  340000.0     2142         Right   \n6  32.0     91.0         91  420000.0     2280         Right   \n\n   InternationalReputation  WeakFoot  SkillMoves  Height  Weight  \\\n0                      5.0       4.0         4.0   1.702     159   \n1                      5.0       4.0         5.0   1.880     183   \n2                      5.0       5.0         5.0   1.753     150   \n3                      4.0       3.0         1.0   1.930     168   \n4                      4.0       5.0         4.0   1.803     154   \n5                      4.0       4.0         4.0   1.727     163   \n6                      4.0       4.0         4.0   1.727     146   \n\n               cluster            y  \n0         FC Barcelona  110500000.0  \n1             Juventus   77000000.0  \n2  Paris Saint-Germain  118500000.0  \n3    Manchester United   72000000.0  \n4      Manchester City  102000000.0  \n5              Chelsea   93000000.0  \n6          Real Madrid   67000000.0  ",
      "text/html": "<div>\n<style scoped>\n    .dataframe tbody tr th:only-of-type {\n        vertical-align: middle;\n    }\n\n    .dataframe tbody tr th {\n        vertical-align: top;\n    }\n\n    .dataframe thead th {\n        text-align: right;\n    }\n</style>\n<table border=\"1\" class=\"dataframe\">\n  <thead>\n    <tr style=\"text-align: right;\">\n      <th></th>\n      <th>Age</th>\n      <th>Overall</th>\n      <th>Potential</th>\n      <th>Wage</th>\n      <th>Special</th>\n      <th>PreferredFoot</th>\n      <th>InternationalReputation</th>\n      <th>WeakFoot</th>\n      <th>SkillMoves</th>\n      <th>Height</th>\n      <th>Weight</th>\n      <th>cluster</th>\n      <th>y</th>\n    </tr>\n  </thead>\n  <tbody>\n    <tr>\n      <th>0</th>\n      <td>31.0</td>\n      <td>94.0</td>\n      <td>94</td>\n      <td>565000.0</td>\n      <td>2202</td>\n      <td>Left</td>\n      <td>5.0</td>\n      <td>4.0</td>\n      <td>4.0</td>\n      <td>1.702</td>\n      <td>159</td>\n      <td>FC Barcelona</td>\n      <td>110500000.0</td>\n    </tr>\n    <tr>\n      <th>1</th>\n      <td>33.0</td>\n      <td>94.0</td>\n      <td>94</td>\n      <td>405000.0</td>\n      <td>2228</td>\n      <td>Right</td>\n      <td>5.0</td>\n      <td>4.0</td>\n      <td>5.0</td>\n      <td>1.880</td>\n      <td>183</td>\n      <td>Juventus</td>\n      <td>77000000.0</td>\n    </tr>\n    <tr>\n      <th>2</th>\n      <td>26.0</td>\n      <td>92.0</td>\n      <td>93</td>\n      <td>290000.0</td>\n      <td>2143</td>\n      <td>Right</td>\n      <td>5.0</td>\n      <td>5.0</td>\n      <td>5.0</td>\n      <td>1.753</td>\n      <td>150</td>\n      <td>Paris Saint-Germain</td>\n      <td>118500000.0</td>\n    </tr>\n    <tr>\n      <th>3</th>\n      <td>27.0</td>\n      <td>91.0</td>\n      <td>93</td>\n      <td>260000.0</td>\n      <td>1471</td>\n      <td>Right</td>\n      <td>4.0</td>\n      <td>3.0</td>\n      <td>1.0</td>\n      <td>1.930</td>\n      <td>168</td>\n      <td>Manchester United</td>\n      <td>72000000.0</td>\n    </tr>\n    <tr>\n      <th>4</th>\n      <td>27.0</td>\n      <td>91.0</td>\n      <td>92</td>\n      <td>355000.0</td>\n      <td>2281</td>\n      <td>Right</td>\n      <td>4.0</td>\n      <td>5.0</td>\n      <td>4.0</td>\n      <td>1.803</td>\n      <td>154</td>\n      <td>Manchester City</td>\n      <td>102000000.0</td>\n    </tr>\n    <tr>\n      <th>5</th>\n      <td>27.0</td>\n      <td>91.0</td>\n      <td>91</td>\n      <td>340000.0</td>\n      <td>2142</td>\n      <td>Right</td>\n      <td>4.0</td>\n      <td>4.0</td>\n      <td>4.0</td>\n      <td>1.727</td>\n      <td>163</td>\n      <td>Chelsea</td>\n      <td>93000000.0</td>\n    </tr>\n    <tr>\n      <th>6</th>\n      <td>32.0</td>\n      <td>91.0</td>\n      <td>91</td>\n      <td>420000.0</td>\n      <td>2280</td>\n      <td>Right</td>\n      <td>4.0</td>\n      <td>4.0</td>\n      <td>4.0</td>\n      <td>1.727</td>\n      <td>146</td>\n      <td>Real Madrid</td>\n      <td>67000000.0</td>\n    </tr>\n  </tbody>\n</table>\n</div>"
     },
     "execution_count": 40,
     "metadata": {},
     "output_type": "execute_result"
    }
   ],
   "source": [
    "df.head(7)"
   ],
   "metadata": {
    "collapsed": false,
    "pycharm": {
     "name": "#%%\n"
    }
   }
  },
  {
   "cell_type": "code",
   "execution_count": 41,
   "outputs": [
    {
     "data": {
      "text/plain": "40000.0"
     },
     "execution_count": 41,
     "metadata": {},
     "output_type": "execute_result"
    }
   ],
   "source": [
    "min(df['y'])"
   ],
   "metadata": {
    "collapsed": false,
    "pycharm": {
     "name": "#%%\n"
    }
   }
  },
  {
   "cell_type": "code",
   "execution_count": 42,
   "outputs": [],
   "source": [
    "df['y'] = df['y'] / 10000"
   ],
   "metadata": {
    "collapsed": false,
    "pycharm": {
     "name": "#%%\n"
    }
   }
  },
  {
   "cell_type": "code",
   "execution_count": 43,
   "outputs": [
    {
     "data": {
      "text/plain": "    Age  Overall  Potential      Wage  Special PreferredFoot  \\\n0  31.0     94.0         94  565000.0     2202          Left   \n1  33.0     94.0         94  405000.0     2228         Right   \n2  26.0     92.0         93  290000.0     2143         Right   \n3  27.0     91.0         93  260000.0     1471         Right   \n4  27.0     91.0         92  355000.0     2281         Right   \n5  27.0     91.0         91  340000.0     2142         Right   \n6  32.0     91.0         91  420000.0     2280         Right   \n\n   InternationalReputation  WeakFoot  SkillMoves  Height  Weight  \\\n0                      5.0       4.0         4.0   1.702     159   \n1                      5.0       4.0         5.0   1.880     183   \n2                      5.0       5.0         5.0   1.753     150   \n3                      4.0       3.0         1.0   1.930     168   \n4                      4.0       5.0         4.0   1.803     154   \n5                      4.0       4.0         4.0   1.727     163   \n6                      4.0       4.0         4.0   1.727     146   \n\n               cluster        y  \n0         FC Barcelona  11050.0  \n1             Juventus   7700.0  \n2  Paris Saint-Germain  11850.0  \n3    Manchester United   7200.0  \n4      Manchester City  10200.0  \n5              Chelsea   9300.0  \n6          Real Madrid   6700.0  ",
      "text/html": "<div>\n<style scoped>\n    .dataframe tbody tr th:only-of-type {\n        vertical-align: middle;\n    }\n\n    .dataframe tbody tr th {\n        vertical-align: top;\n    }\n\n    .dataframe thead th {\n        text-align: right;\n    }\n</style>\n<table border=\"1\" class=\"dataframe\">\n  <thead>\n    <tr style=\"text-align: right;\">\n      <th></th>\n      <th>Age</th>\n      <th>Overall</th>\n      <th>Potential</th>\n      <th>Wage</th>\n      <th>Special</th>\n      <th>PreferredFoot</th>\n      <th>InternationalReputation</th>\n      <th>WeakFoot</th>\n      <th>SkillMoves</th>\n      <th>Height</th>\n      <th>Weight</th>\n      <th>cluster</th>\n      <th>y</th>\n    </tr>\n  </thead>\n  <tbody>\n    <tr>\n      <th>0</th>\n      <td>31.0</td>\n      <td>94.0</td>\n      <td>94</td>\n      <td>565000.0</td>\n      <td>2202</td>\n      <td>Left</td>\n      <td>5.0</td>\n      <td>4.0</td>\n      <td>4.0</td>\n      <td>1.702</td>\n      <td>159</td>\n      <td>FC Barcelona</td>\n      <td>11050.0</td>\n    </tr>\n    <tr>\n      <th>1</th>\n      <td>33.0</td>\n      <td>94.0</td>\n      <td>94</td>\n      <td>405000.0</td>\n      <td>2228</td>\n      <td>Right</td>\n      <td>5.0</td>\n      <td>4.0</td>\n      <td>5.0</td>\n      <td>1.880</td>\n      <td>183</td>\n      <td>Juventus</td>\n      <td>7700.0</td>\n    </tr>\n    <tr>\n      <th>2</th>\n      <td>26.0</td>\n      <td>92.0</td>\n      <td>93</td>\n      <td>290000.0</td>\n      <td>2143</td>\n      <td>Right</td>\n      <td>5.0</td>\n      <td>5.0</td>\n      <td>5.0</td>\n      <td>1.753</td>\n      <td>150</td>\n      <td>Paris Saint-Germain</td>\n      <td>11850.0</td>\n    </tr>\n    <tr>\n      <th>3</th>\n      <td>27.0</td>\n      <td>91.0</td>\n      <td>93</td>\n      <td>260000.0</td>\n      <td>1471</td>\n      <td>Right</td>\n      <td>4.0</td>\n      <td>3.0</td>\n      <td>1.0</td>\n      <td>1.930</td>\n      <td>168</td>\n      <td>Manchester United</td>\n      <td>7200.0</td>\n    </tr>\n    <tr>\n      <th>4</th>\n      <td>27.0</td>\n      <td>91.0</td>\n      <td>92</td>\n      <td>355000.0</td>\n      <td>2281</td>\n      <td>Right</td>\n      <td>4.0</td>\n      <td>5.0</td>\n      <td>4.0</td>\n      <td>1.803</td>\n      <td>154</td>\n      <td>Manchester City</td>\n      <td>10200.0</td>\n    </tr>\n    <tr>\n      <th>5</th>\n      <td>27.0</td>\n      <td>91.0</td>\n      <td>91</td>\n      <td>340000.0</td>\n      <td>2142</td>\n      <td>Right</td>\n      <td>4.0</td>\n      <td>4.0</td>\n      <td>4.0</td>\n      <td>1.727</td>\n      <td>163</td>\n      <td>Chelsea</td>\n      <td>9300.0</td>\n    </tr>\n    <tr>\n      <th>6</th>\n      <td>32.0</td>\n      <td>91.0</td>\n      <td>91</td>\n      <td>420000.0</td>\n      <td>2280</td>\n      <td>Right</td>\n      <td>4.0</td>\n      <td>4.0</td>\n      <td>4.0</td>\n      <td>1.727</td>\n      <td>146</td>\n      <td>Real Madrid</td>\n      <td>6700.0</td>\n    </tr>\n  </tbody>\n</table>\n</div>"
     },
     "execution_count": 43,
     "metadata": {},
     "output_type": "execute_result"
    }
   ],
   "source": [
    "df.head(7)"
   ],
   "metadata": {
    "collapsed": false,
    "pycharm": {
     "name": "#%%\n"
    }
   }
  },
  {
   "cell_type": "markdown",
   "source": [
    "## The analysis"
   ],
   "metadata": {
    "collapsed": false,
    "pycharm": {
     "name": "#%% md\n"
    }
   }
  },
  {
   "cell_type": "code",
   "execution_count": 44,
   "outputs": [],
   "source": [
    "## Дані будуть розділені на тренувальну і тестувальну вибірки, так щоб не було однакових значень 'cluster' між цими вибірками.\n",
    "version = 'CV'\n",
    "depth = 5\n",
    "NoCov = 2\n",
    "\n",
    "sample_clusters = random.sample(set(df.cluster.unique()), 20)\n",
    "\n",
    "df_tr = df.loc[df['cluster'].isin(sample_clusters)]\n",
    "df_test = df.loc[~df['cluster'].isin(sample_clusters)]"
   ],
   "metadata": {
    "collapsed": false,
    "pycharm": {
     "name": "#%%\n"
    }
   }
  },
  {
   "cell_type": "code",
   "execution_count": null,
   "outputs": [
    {
     "name": "stdout",
     "output_type": "stream",
     "text": [
      "best overall metric: 117021.22572890949\n",
      "best overall metric: 116989.71903926111\n",
      "best overall metric: 116802.08185038944\n",
      "best overall metric: 116691.3798215242\n",
      "best overall metric: 115963.262203431\n",
      "best overall metric: 115842.17187930415\n",
      "best overall metric: 115046.02908522308\n",
      "best overall metric: 111200.98249414696\n",
      "best overall metric: 104578.39382259095\n",
      "best overall metric: 95728.34455678222\n",
      "best overall metric: 86081.49783417149\n",
      "best overall metric: 76439.85991254497\n",
      "best overall metric: 65442.35944828286\n",
      "best overall metric: 58783.968434596056\n",
      "best overall metric: 54465.73247333477\n"
     ]
    }
   ],
   "source": [
    "from RealData import ClusteredRETCO as RETCOfile\n",
    "\n",
    "RETCO = RETCOfile.CreateTree(version, df_tr, depth=depth, min_leaf_sample=3, StoppingRule='Yes', random_subspace=None)"
   ],
   "metadata": {
    "collapsed": false,
    "pycharm": {
     "name": "#%%\n",
     "is_executing": true
    }
   }
  },
  {
   "cell_type": "code",
   "execution_count": null,
   "outputs": [],
   "source": [
    "from RealData import CHRT as RTfile\n",
    "\n",
    "tree = RTfile.decision_tree_algorithm(version, df_tr, max_depth=depth, min_leaf_sample=3, counter=0,\n",
    "                                      random_subspace=None)\n",
    "covariates_pred_test = df_test.iloc[:, :-NoCov].values\n",
    "col_names = df_test.iloc[:, :-NoCov].columns"
   ],
   "metadata": {
    "collapsed": false,
    "pycharm": {
     "name": "#%%\n",
     "is_executing": true
    }
   }
  },
  {
   "cell_type": "code",
   "execution_count": 12,
   "outputs": [],
   "source": [
    "prediction_test_RETCO = RETCOfile.predictionFun(col_names, covariates_pred_test, RETCO)\n",
    "prediction_test = RTfile.decision_tree_predictions(df_test, tree)"
   ],
   "metadata": {
    "collapsed": false,
    "pycharm": {
     "name": "#%%\n"
    }
   }
  },
  {
   "cell_type": "code",
   "execution_count": 13,
   "outputs": [],
   "source": [
    "y_test = df_test['y'].values"
   ],
   "metadata": {
    "collapsed": false,
    "pycharm": {
     "name": "#%%\n"
    }
   }
  },
  {
   "cell_type": "code",
   "execution_count": 24,
   "outputs": [],
   "source": [
    "new_y_test = y_test[1:]"
   ],
   "metadata": {
    "collapsed": false,
    "pycharm": {
     "name": "#%%\n"
    }
   }
  },
  {
   "cell_type": "code",
   "execution_count": 27,
   "outputs": [],
   "source": [
    "RETCOerror = sum((new_y_test - prediction_test_RETCO) ** 2) / len(new_y_test)"
   ],
   "metadata": {
    "collapsed": false,
    "pycharm": {
     "name": "#%%\n"
    }
   }
  },
  {
   "cell_type": "code",
   "execution_count": 29,
   "outputs": [],
   "source": [
    "RTerror = sum((y_test - prediction_test) ** 2) / len(y_test)"
   ],
   "metadata": {
    "collapsed": false,
    "pycharm": {
     "name": "#%%\n"
    }
   }
  },
  {
   "cell_type": "code",
   "execution_count": 31,
   "outputs": [
    {
     "name": "stdout",
     "output_type": "stream",
     "text": [
      "RETCOerror: 514139.3510490883 \n",
      "RTerror: 554992.8971176653\n"
     ]
    }
   ],
   "source": [
    "print('RETCOerror:', RETCOerror, '\\nRTerror:', RTerror)"
   ],
   "metadata": {
    "collapsed": false,
    "pycharm": {
     "name": "#%%\n"
    }
   }
  },
  {
   "cell_type": "code",
   "execution_count": null,
   "outputs": [],
   "source": [],
   "metadata": {
    "collapsed": false,
    "pycharm": {
     "name": "#%%\n"
    }
   }
  }
 ],
 "metadata": {
  "kernelspec": {
   "display_name": "Python 3",
   "language": "python",
   "name": "python3"
  },
  "language_info": {
   "codemirror_mode": {
    "name": "ipython",
    "version": 2
   },
   "file_extension": ".py",
   "mimetype": "text/x-python",
   "name": "python",
   "nbconvert_exporter": "python",
   "pygments_lexer": "ipython2",
   "version": "2.7.6"
  }
 },
 "nbformat": 4,
 "nbformat_minor": 0
}